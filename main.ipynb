{
 "cells": [
  {
   "cell_type": "markdown",
   "metadata": {},
   "source": [
    "# Analysing Smartphone Prices"
   ]
  },
  {
   "cell_type": "code",
   "execution_count": 1,
   "metadata": {
    "ExecuteTime": {
     "end_time": "2020-05-18T20:25:53.907765Z",
     "start_time": "2020-05-18T20:25:52.816614Z"
    },
    "scrolled": false
   },
   "outputs": [],
   "source": [
    "from statistics import stdev, median\n",
    "\n",
    "import requests\n",
    "from lxml import html\n",
    "from urllib import parse\n",
    "import re\n",
    "\n",
    "import pandas as pd\n",
    "from tqdm import tqdm\n",
    "import matplotlib.pyplot as plt"
   ]
  },
  {
   "cell_type": "markdown",
   "metadata": {},
   "source": [
    "## 1. Loading Devices Names"
   ]
  },
  {
   "cell_type": "code",
   "execution_count": 2,
   "metadata": {
    "ExecuteTime": {
     "end_time": "2020-05-18T20:25:53.935219Z",
     "start_time": "2020-05-18T20:25:53.909973Z"
    },
    "scrolled": true
   },
   "outputs": [
    {
     "name": "stdout",
     "output_type": "stream",
     "text": [
      "<class 'pandas.core.frame.DataFrame'>\n",
      "RangeIndex: 1129 entries, 0 to 1128\n",
      "Data columns (total 2 columns):\n",
      " #   Column           Non-Null Count  Dtype \n",
      "---  ------           --------------  ----- \n",
      " 0   model_name       1129 non-null   object\n",
      " 1   old_price_range  1129 non-null   object\n",
      "dtypes: object(2)\n",
      "memory usage: 17.8+ KB\n"
     ]
    }
   ],
   "source": [
    "RELATIVE_PATH_TO_DATA_FOLDER = './data/'\n",
    "filename = 'devices_using_ribonapp_data'\n",
    "filename_with_path = RELATIVE_PATH_TO_DATA_FOLDER + filename + '.csv'\n",
    "devices_df = pd.read_csv(filename_with_path, skiprows=1, names=['model_name', 'old_price_range'])\n",
    "devices_df.info()"
   ]
  },
  {
   "cell_type": "markdown",
   "metadata": {},
   "source": [
    "### Cleaning Duplicates and Missing Values"
   ]
  },
  {
   "cell_type": "code",
   "execution_count": 3,
   "metadata": {
    "ExecuteTime": {
     "end_time": "2020-05-18T20:25:54.061427Z",
     "start_time": "2020-05-18T20:25:53.938314Z"
    }
   },
   "outputs": [
    {
     "data": {
      "text/html": [
       "<div>\n",
       "<style scoped>\n",
       "    .dataframe tbody tr th:only-of-type {\n",
       "        vertical-align: middle;\n",
       "    }\n",
       "\n",
       "    .dataframe tbody tr th {\n",
       "        vertical-align: top;\n",
       "    }\n",
       "\n",
       "    .dataframe thead th {\n",
       "        text-align: right;\n",
       "    }\n",
       "</style>\n",
       "<table border=\"1\" class=\"dataframe\">\n",
       "  <thead>\n",
       "    <tr style=\"text-align: right;\">\n",
       "      <th></th>\n",
       "      <th>model_name</th>\n",
       "      <th>old_price_range</th>\n",
       "    </tr>\n",
       "  </thead>\n",
       "  <tbody>\n",
       "    <tr>\n",
       "      <th>0</th>\n",
       "      <td>2 A2005</td>\n",
       "      <td>Low</td>\n",
       "    </tr>\n",
       "    <tr>\n",
       "      <th>1</th>\n",
       "      <td>3</td>\n",
       "      <td>Low</td>\n",
       "    </tr>\n",
       "    <tr>\n",
       "      <th>2</th>\n",
       "      <td>3T</td>\n",
       "      <td>Low</td>\n",
       "    </tr>\n",
       "    <tr>\n",
       "      <th>3</th>\n",
       "      <td>4047D</td>\n",
       "      <td>Low</td>\n",
       "    </tr>\n",
       "    <tr>\n",
       "      <th>4</th>\n",
       "      <td>5</td>\n",
       "      <td>Low</td>\n",
       "    </tr>\n",
       "    <tr>\n",
       "      <th>...</th>\n",
       "      <td>...</td>\n",
       "      <td>...</td>\n",
       "    </tr>\n",
       "    <tr>\n",
       "      <th>1124</th>\n",
       "      <td>nova 4</td>\n",
       "      <td>Low</td>\n",
       "    </tr>\n",
       "    <tr>\n",
       "      <th>1125</th>\n",
       "      <td>t1_8p0lte</td>\n",
       "      <td>Low</td>\n",
       "    </tr>\n",
       "    <tr>\n",
       "      <th>1126</th>\n",
       "      <td>vivo 1724</td>\n",
       "      <td>Low</td>\n",
       "    </tr>\n",
       "    <tr>\n",
       "      <th>1127</th>\n",
       "      <td>vivo X9</td>\n",
       "      <td>Low</td>\n",
       "    </tr>\n",
       "    <tr>\n",
       "      <th>1128</th>\n",
       "      <td>vivo Y53</td>\n",
       "      <td>Low</td>\n",
       "    </tr>\n",
       "  </tbody>\n",
       "</table>\n",
       "<p>1129 rows × 2 columns</p>\n",
       "</div>"
      ],
      "text/plain": [
       "     model_name old_price_range\n",
       "0       2 A2005             Low\n",
       "1             3             Low\n",
       "2            3T             Low\n",
       "3         4047D             Low\n",
       "4             5             Low\n",
       "...         ...             ...\n",
       "1124     nova 4             Low\n",
       "1125  t1_8p0lte             Low\n",
       "1126  vivo 1724             Low\n",
       "1127    vivo X9             Low\n",
       "1128   vivo Y53             Low\n",
       "\n",
       "[1129 rows x 2 columns]"
      ]
     },
     "execution_count": 3,
     "metadata": {},
     "output_type": "execute_result"
    }
   ],
   "source": [
    "devices_df.drop_duplicates(['model_name'], inplace=True)\n",
    "devices_df.dropna(axis=0, inplace=True)\n",
    "devices_df"
   ]
  },
  {
   "cell_type": "markdown",
   "metadata": {},
   "source": [
    "### Filtering Non Informative Names"
   ]
  },
  {
   "cell_type": "code",
   "execution_count": 4,
   "metadata": {
    "ExecuteTime": {
     "end_time": "2020-05-18T20:25:54.290929Z",
     "start_time": "2020-05-18T20:25:54.063801Z"
    }
   },
   "outputs": [
    {
     "data": {
      "text/html": [
       "<div>\n",
       "<style scoped>\n",
       "    .dataframe tbody tr th:only-of-type {\n",
       "        vertical-align: middle;\n",
       "    }\n",
       "\n",
       "    .dataframe tbody tr th {\n",
       "        vertical-align: top;\n",
       "    }\n",
       "\n",
       "    .dataframe thead th {\n",
       "        text-align: right;\n",
       "    }\n",
       "</style>\n",
       "<table border=\"1\" class=\"dataframe\">\n",
       "  <thead>\n",
       "    <tr style=\"text-align: right;\">\n",
       "      <th></th>\n",
       "      <th>model_name</th>\n",
       "      <th>old_price_range</th>\n",
       "    </tr>\n",
       "  </thead>\n",
       "  <tbody>\n",
       "    <tr>\n",
       "      <th>0</th>\n",
       "      <td>2 A2005</td>\n",
       "      <td>Low</td>\n",
       "    </tr>\n",
       "    <tr>\n",
       "      <th>2</th>\n",
       "      <td>3T</td>\n",
       "      <td>Low</td>\n",
       "    </tr>\n",
       "    <tr>\n",
       "      <th>3</th>\n",
       "      <td>4047D</td>\n",
       "      <td>Low</td>\n",
       "    </tr>\n",
       "    <tr>\n",
       "      <th>5</th>\n",
       "      <td>5051J</td>\n",
       "      <td>Low</td>\n",
       "    </tr>\n",
       "    <tr>\n",
       "      <th>6</th>\n",
       "      <td>5056D</td>\n",
       "      <td>Low</td>\n",
       "    </tr>\n",
       "    <tr>\n",
       "      <th>...</th>\n",
       "      <td>...</td>\n",
       "      <td>...</td>\n",
       "    </tr>\n",
       "    <tr>\n",
       "      <th>1124</th>\n",
       "      <td>nova 4</td>\n",
       "      <td>Low</td>\n",
       "    </tr>\n",
       "    <tr>\n",
       "      <th>1125</th>\n",
       "      <td>t1_8p0lte</td>\n",
       "      <td>Low</td>\n",
       "    </tr>\n",
       "    <tr>\n",
       "      <th>1126</th>\n",
       "      <td>vivo 1724</td>\n",
       "      <td>Low</td>\n",
       "    </tr>\n",
       "    <tr>\n",
       "      <th>1127</th>\n",
       "      <td>vivo X9</td>\n",
       "      <td>Low</td>\n",
       "    </tr>\n",
       "    <tr>\n",
       "      <th>1128</th>\n",
       "      <td>vivo Y53</td>\n",
       "      <td>Low</td>\n",
       "    </tr>\n",
       "  </tbody>\n",
       "</table>\n",
       "<p>1123 rows × 2 columns</p>\n",
       "</div>"
      ],
      "text/plain": [
       "     model_name old_price_range\n",
       "0       2 A2005             Low\n",
       "2            3T             Low\n",
       "3         4047D             Low\n",
       "5         5051J             Low\n",
       "6         5056D             Low\n",
       "...         ...             ...\n",
       "1124     nova 4             Low\n",
       "1125  t1_8p0lte             Low\n",
       "1126  vivo 1724             Low\n",
       "1127    vivo X9             Low\n",
       "1128   vivo Y53             Low\n",
       "\n",
       "[1123 rows x 2 columns]"
      ]
     },
     "execution_count": 4,
     "metadata": {},
     "output_type": "execute_result"
    }
   ],
   "source": [
    "informative_names_mask = devices_df['model_name'].str.len() > 1\n",
    "devices_df = devices_df[informative_names_mask]\n",
    "devices_df"
   ]
  },
  {
   "cell_type": "markdown",
   "metadata": {},
   "source": [
    "# Searching for Prices"
   ]
  },
  {
   "cell_type": "code",
   "execution_count": 5,
   "metadata": {
    "ExecuteTime": {
     "end_time": "2020-05-18T20:25:54.522043Z",
     "start_time": "2020-05-18T20:25:54.300144Z"
    }
   },
   "outputs": [],
   "source": [
    "\n"
   ]
  },
  {
   "cell_type": "code",
   "execution_count": 8,
   "metadata": {
    "ExecuteTime": {
     "end_time": "2020-05-18T20:28:24.700287Z",
     "start_time": "2020-05-18T20:28:24.680714Z"
    }
   },
   "outputs": [],
   "source": [
    "\n",
    "\n"
   ]
  },
  {
   "cell_type": "code",
   "execution_count": 7,
   "metadata": {
    "ExecuteTime": {
     "end_time": "2020-05-18T20:25:56.625425Z",
     "start_time": "2020-05-18T20:25:54.783810Z"
    }
   },
   "outputs": [
    {
     "name": "stderr",
     "output_type": "stream",
     "text": [
      "2020-05-18 17:25:54 [scrapy.utils.log] INFO: Scrapy 2.1.0 started (bot: scrapybot)\n",
      "2020-05-18 17:25:54 [scrapy.utils.log] INFO: Versions: lxml 4.5.0.0, libxml2 2.9.10, cssselect 1.1.0, parsel 1.6.0, w3lib 1.21.0, Twisted 20.3.0, Python 3.6.9 (default, Nov  7 2019, 10:44:02) - [GCC 8.3.0], pyOpenSSL 19.1.0 (OpenSSL 1.1.1g  21 Apr 2020), cryptography 2.9.2, Platform Linux-5.3.0-51-generic-x86_64-with-Ubuntu-18.04-bionic\n",
      "2020-05-18 17:25:54 [scrapy.utils.log] DEBUG: Using reactor: twisted.internet.epollreactor.EPollReactor\n",
      "2020-05-18 17:25:54 [scrapy.crawler] INFO: Overridden settings:\n",
      "{'USER_AGENT': 'Mozilla/4.0 (compatible; MSIE 7.0; Windows NT 5.1)'}\n",
      "2020-05-18 17:25:54 [scrapy.extensions.telnet] INFO: Telnet Password: 65706df12297a629\n",
      "2020-05-18 17:25:54 [scrapy.middleware] INFO: Enabled extensions:\n",
      "['scrapy.extensions.corestats.CoreStats',\n",
      " 'scrapy.extensions.telnet.TelnetConsole',\n",
      " 'scrapy.extensions.memusage.MemoryUsage',\n",
      " 'scrapy.extensions.logstats.LogStats']\n",
      "2020-05-18 17:25:54 [scrapy.middleware] INFO: Enabled downloader middlewares:\n",
      "['scrapy.downloadermiddlewares.httpauth.HttpAuthMiddleware',\n",
      " 'scrapy.downloadermiddlewares.downloadtimeout.DownloadTimeoutMiddleware',\n",
      " 'scrapy.downloadermiddlewares.defaultheaders.DefaultHeadersMiddleware',\n",
      " 'scrapy.downloadermiddlewares.useragent.UserAgentMiddleware',\n",
      " 'scrapy.downloadermiddlewares.retry.RetryMiddleware',\n",
      " 'scrapy.downloadermiddlewares.redirect.MetaRefreshMiddleware',\n",
      " 'scrapy.downloadermiddlewares.httpcompression.HttpCompressionMiddleware',\n",
      " 'scrapy.downloadermiddlewares.redirect.RedirectMiddleware',\n",
      " 'scrapy.downloadermiddlewares.cookies.CookiesMiddleware',\n",
      " 'scrapy.downloadermiddlewares.httpproxy.HttpProxyMiddleware',\n",
      " 'scrapy.downloadermiddlewares.stats.DownloaderStats']\n",
      "2020-05-18 17:25:54 [scrapy.middleware] INFO: Enabled spider middlewares:\n",
      "['scrapy.spidermiddlewares.httperror.HttpErrorMiddleware',\n",
      " 'scrapy.spidermiddlewares.offsite.OffsiteMiddleware',\n",
      " 'scrapy.spidermiddlewares.referer.RefererMiddleware',\n",
      " 'scrapy.spidermiddlewares.urllength.UrlLengthMiddleware',\n",
      " 'scrapy.spidermiddlewares.depth.DepthMiddleware']\n",
      "2020-05-18 17:25:54 [scrapy.middleware] INFO: Enabled item pipelines:\n",
      "[]\n",
      "2020-05-18 17:25:54 [scrapy.core.engine] INFO: Spider opened\n",
      "2020-05-18 17:25:54 [scrapy.extensions.logstats] INFO: Crawled 0 pages (at 0 pages/min), scraped 0 items (at 0 items/min)\n",
      "2020-05-18 17:25:54 [scrapy.extensions.telnet] INFO: Telnet console listening on 127.0.0.1:6023\n",
      "2020-05-18 17:25:55 [scrapy.downloadermiddlewares.redirect] DEBUG: Redirecting (301) to <GET https://celulares.mercadolivre.com.br/5056d> from <GET https://celulares.mercadolivre.com.br/5056D>\n",
      "2020-05-18 17:25:55 [scrapy.downloadermiddlewares.redirect] DEBUG: Redirecting (301) to <GET https://celulares.mercadolivre.com.br/2-a2005> from <GET https://celulares.mercadolivre.com.br/2%20A2005>\n",
      "2020-05-18 17:25:55 [scrapy.downloadermiddlewares.redirect] DEBUG: Redirecting (301) to <GET https://celulares.mercadolivre.com.br/5051j> from <GET https://celulares.mercadolivre.com.br/5051J>\n",
      "2020-05-18 17:25:55 [scrapy.downloadermiddlewares.redirect] DEBUG: Redirecting (301) to <GET https://celulares.mercadolivre.com.br/4047d> from <GET https://celulares.mercadolivre.com.br/4047D>\n",
      "2020-05-18 17:25:55 [scrapy.downloadermiddlewares.redirect] DEBUG: Redirecting (301) to <GET https://celulares.mercadolivre.com.br/3t> from <GET https://celulares.mercadolivre.com.br/3T>\n",
      "2020-05-18 17:25:55 [scrapy.core.engine] DEBUG: Crawled (200) <GET https://celulares.mercadolivre.com.br/5056d> (referer: None)\n",
      "2020-05-18 17:25:56 [scrapy.core.engine] DEBUG: Crawled (200) <GET https://celulares.mercadolivre.com.br/4047d> (referer: None)\n",
      "2020-05-18 17:25:56 [scrapy.core.engine] DEBUG: Crawled (200) <GET https://celulares.mercadolivre.com.br/2-a2005> (referer: None)\n",
      "2020-05-18 17:25:56 [scrapy.core.engine] DEBUG: Crawled (200) <GET https://celulares.mercadolivre.com.br/5051j> (referer: None)\n",
      "2020-05-18 17:25:56 [scrapy.core.engine] DEBUG: Crawled (200) <GET https://celulares.mercadolivre.com.br/3t> (referer: None)\n",
      "2020-05-18 17:25:56 [scrapy.core.engine] INFO: Closing spider (finished)\n",
      "2020-05-18 17:25:56 [scrapy.statscollectors] INFO: Dumping Scrapy stats:\n",
      "{'downloader/request_bytes': 2770,\n",
      " 'downloader/request_count': 10,\n",
      " 'downloader/request_method_count/GET': 10,\n",
      " 'downloader/response_bytes': 78413,\n",
      " 'downloader/response_count': 10,\n",
      " 'downloader/response_status_count/200': 5,\n",
      " 'downloader/response_status_count/301': 5,\n",
      " 'elapsed_time_seconds': 1.640859,\n",
      " 'finish_reason': 'finished',\n",
      " 'finish_time': datetime.datetime(2020, 5, 18, 20, 25, 56, 558757),\n",
      " 'log_count/DEBUG': 10,\n",
      " 'log_count/INFO': 10,\n",
      " 'memusage/max': 139304960,\n",
      " 'memusage/startup': 139304960,\n",
      " 'response_received_count': 5,\n",
      " 'scheduler/dequeued': 10,\n",
      " 'scheduler/dequeued/memory': 10,\n",
      " 'scheduler/enqueued': 10,\n",
      " 'scheduler/enqueued/memory': 10,\n",
      " 'start_time': datetime.datetime(2020, 5, 18, 20, 25, 54, 917898)}\n",
      "2020-05-18 17:25:56 [scrapy.core.engine] INFO: Spider closed (finished)\n"
     ]
    }
   ],
   "source": [
    "process = CrawlerProcess({\n",
    "    'USER_AGENT': 'Mozilla/4.0 (compatible; MSIE 7.0; Windows NT 5.1)'\n",
    "})\n",
    "\n",
    "process.crawl(MercadoLivreSpider)\n",
    "process.start() # the script will block here until the crawling is finished"
   ]
  },
  {
   "cell_type": "code",
   "execution_count": null,
   "metadata": {
    "ExecuteTime": {
     "end_time": "2020-05-18T20:18:37.428553Z",
     "start_time": "2020-05-18T20:18:37.376250Z"
    }
   },
   "outputs": [],
   "source": []
  },
  {
   "cell_type": "code",
   "execution_count": null,
   "metadata": {
    "ExecuteTime": {
     "end_time": "2020-05-18T20:04:41.775528Z",
     "start_time": "2020-05-18T20:04:41.765713Z"
    }
   },
   "outputs": [],
   "source": [
    "MercadoLivreSpider."
   ]
  },
  {
   "cell_type": "code",
   "execution_count": null,
   "metadata": {
    "ExecuteTime": {
     "end_time": "2020-05-18T19:51:17.430588Z",
     "start_time": "2020-05-18T19:51:15.603Z"
    }
   },
   "outputs": [],
   "source": [
    "extracted_data_df = pd.DataFrame(data=found_elements, columns=['item_original_name','url', 'improved_url', 'devices_names', 'devices_prices'])\n",
    "extracted_data_df"
   ]
  },
  {
   "cell_type": "code",
   "execution_count": null,
   "metadata": {
    "ExecuteTime": {
     "end_time": "2020-05-18T19:51:17.433059Z",
     "start_time": "2020-05-18T19:51:15.606Z"
    },
    "scrolled": true
   },
   "outputs": [],
   "source": [
    "\n",
    "\n",
    "url_base = \"https://celulares.mercadolivre.com.br/\"\n",
    "item_list = devices_df['model_name'].to_list()\n",
    "url_list = [url_base + parse.quote(item_name) for item_name in item_list]\n",
    "\n",
    "# We can use the website filtering to help our search\n",
    "# Let's filter for only devices in the tag 'Novo'\n",
    "novo_filter_xpath = '/html/body/main/div[2]/div/aside/section[2]/dl[@id=\"id_ITEM_CONDITION\"]/dd[1]/a/@href'\n",
    "products_articles_criteria = '@class=\"results-item highlighted article stack product \"'\n",
    "product_information_criteria = '@class=\"item__info-container highlighted \"'\n",
    "item_prices_criteria = '@class=\"price__container\"'\n",
    "user_agent = 'Mozilla/5.0 (X11; Linux x86_64) AppleWebKit/537.36 (KHTML, like Gecko) Chrome/36.0.1985.143 Safari/537.36'\n",
    "headers = {'User-Agent': user_agent}\n",
    "\n",
    "found_elements = []\n",
    "for i, url in tqdm(enumerate(url_list)):\n",
    "    webpage_requested = requests.get(url, headers=headers, allow_redirects=True)\n",
    "    if not webpage_requested or not webpage_requested.content:\n",
    "        found_elements.append([item_list[i], url, [], [], []])\n",
    "        continue\n",
    "\n",
    "    webpage_tree = html.fromstring(webpage_requested.content)\n",
    "\n",
    "\n",
    "    improved_url = webpage_tree.xpath(novo_filter_xpath)\n",
    "    if improved_url:\n",
    "        improved_url = improved_url[0]\n",
    "        webpage_requested = requests.get(improved_url)\n",
    "        webpage_tree = html.fromstring(webpage_requested.content)\n",
    "\n",
    "    \n",
    "    webproducts_names_xpath = '/html/body/main/div[2]/div/section/ol/li[' + products_articles_criteria + ']/div/div[' + product_information_criteria + ']/div/h2/a/span/text()'\n",
    "    webproducts_prices_xpath = '/html/body/main/div[2]/div/section/ol/li[' + products_articles_criteria +\\\n",
    "        ']/div/div['+ product_information_criteria + ']/div/div[' + item_prices_criteria + ']/div/span[2]/text()'\n",
    "\n",
    "    webproducts_names_found = webpage_tree.xpath(webproducts_names_xpath)\n",
    "    webproducts_prices_found = webpage_tree.xpath(webproducts_prices_xpath)\n",
    "    if len(webproducts_names_found) > len(webproducts_prices_found):\n",
    "        webproducts_names_found = webproducts_names_found[:len(webproducts_prices_found)]\n",
    "    elif len(webproducts_names_found) < len(webproducts_prices_found = ):\n",
    "        webproducts_prices_found = webproducts_prices_found[:len(webproducts_names_found)]\n",
    "    \n",
    "    found_elements.append([item_list[i], url, improved_url, webproducts_names_found, webproducts_prices_found])\n",
    "print(len(found_elements))"
   ]
  },
  {
   "cell_type": "code",
   "execution_count": null,
   "metadata": {
    "ExecuteTime": {
     "end_time": "2020-05-18T19:51:17.436146Z",
     "start_time": "2020-05-18T19:51:15.609Z"
    }
   },
   "outputs": [],
   "source": [
    "print(found_elements)"
   ]
  },
  {
   "cell_type": "code",
   "execution_count": null,
   "metadata": {
    "ExecuteTime": {
     "end_time": "2020-05-17T00:46:46.087695Z",
     "start_time": "2020-05-17T00:46:46.054003Z"
    }
   },
   "outputs": [],
   "source": []
  },
  {
   "cell_type": "code",
   "execution_count": null,
   "metadata": {
    "ExecuteTime": {
     "end_time": "2020-05-18T19:51:17.437757Z",
     "start_time": "2020-05-18T19:51:15.612Z"
    }
   },
   "outputs": [],
   "source": [
    "# Explode/Split column into multiple rows\n",
    "new_df = pd.DataFrame(df.City.str.split('|').tolist(), index=df).stack()\n",
    "new_df = new_df.reset_index([0, 'EmployeeId'])\n",
    "new_df.columns = ['EmployeeId', 'City']"
   ]
  },
  {
   "cell_type": "code",
   "execution_count": null,
   "metadata": {
    "ExecuteTime": {
     "end_time": "2020-05-18T19:51:17.439636Z",
     "start_time": "2020-05-18T19:51:15.614Z"
    }
   },
   "outputs": [],
   "source": [
    "url_base = \"https://celulares.mercadolivre.com.br/\"\n",
    "item_list = devices_df['model_name'].to_list()[:5]\n",
    "\n",
    "# TODO ADD OPTION TO SEARCH ONLY NEW PRODUCTS \n",
    "# title=\"Novo\" href=\"(.*?)\">\n",
    "url_list = [url_base + parse.quote(item_name) for item_name in item_list]\n",
    "found_search_contents = []"
   ]
  },
  {
   "cell_type": "code",
   "execution_count": null,
   "metadata": {
    "ExecuteTime": {
     "end_time": "2020-05-18T19:51:17.442461Z",
     "start_time": "2020-05-18T19:51:15.619Z"
    }
   },
   "outputs": [],
   "source": [
    "url_base = \"https://celulares.mercadolivre.com.br/\"\n",
    "item_list = devices_df['model_name'].to_list()\n",
    "\n",
    "# TODO ADD OPTION TO SEARCH ONLY NEW PRODUCTS \n",
    "# title=\"Novo\" href=\"(.*?)\">\n",
    "url_list = [url_base + parse.quote(item_name) for item_name in item_list]\n",
    "found_search_contents = []\n",
    "item_count = 1\n",
    "for url, item_original_name in zip(url_list, item_list):\n",
    "    print(item_count)\n",
    "    \n",
    "    item_count += 1\n",
    "    r = requests.get(url)\n",
    "    text_content = str(r.text)\n",
    "    # We can use the website filtering to help our search\n",
    "    # Let's filter for only devices in the tag 'Novo'\n",
    "    improved_url = re.search(\n",
    "             r\"\"\"id=\"id_ITEM_CONDITION\" role=\"listbox\">[\\s\\S]+?title=['\"]Novo['\"] href=['\"](\\S+)['\"]\\s*>\"\"\", text_content)\n",
    "    if improved_url:\n",
    "        improved_url = improved_url.groups()[0]\n",
    "        r = requests.get(improved_url)\n",
    "        text_content = str(r.text)\n",
    "     \n",
    "    # Let's filter the are to search for only search results\n",
    "\n",
    "    result_field_text_content = re.search(r'<ol id=\"searchResults\"(.+?)<\\/ol>', text_content)\n",
    "    if result_field_text_content:\n",
    "        result_field_text_content = result_field_text_content.groups()[0]\n",
    "    else:\n",
    "        result_field_text_content = None\n",
    "    found_search_contents.append([item_original_name, url, result_field_text_content])\n",
    "\n",
    "extracted_data_df = pd.DataFrame(data=found_search_contents, columns=['item_original_name','url', 'page_search_content'])\n",
    "extracted_data_df"
   ]
  },
  {
   "cell_type": "markdown",
   "metadata": {},
   "source": [
    "## Storing Raw Price Information"
   ]
  },
  {
   "cell_type": "code",
   "execution_count": null,
   "metadata": {
    "ExecuteTime": {
     "end_time": "2020-05-18T19:51:17.444160Z",
     "start_time": "2020-05-18T19:51:15.621Z"
    }
   },
   "outputs": [],
   "source": [
    "extracted_filename = 'device_search_results'\n",
    "extracted_filename_with_path = RELATIVE_PATH_TO_DATA_FOLDER + extracted_filename + '.csv'"
   ]
  },
  {
   "cell_type": "code",
   "execution_count": null,
   "metadata": {
    "ExecuteTime": {
     "end_time": "2020-05-18T19:51:17.445863Z",
     "start_time": "2020-05-18T19:51:15.624Z"
    }
   },
   "outputs": [],
   "source": [
    "extracted_data_df.to_csv(extracted_filename_with_path, index=False)"
   ]
  },
  {
   "cell_type": "markdown",
   "metadata": {},
   "source": [
    "## Treating Data"
   ]
  },
  {
   "cell_type": "code",
   "execution_count": null,
   "metadata": {
    "ExecuteTime": {
     "end_time": "2020-05-18T19:51:17.447247Z",
     "start_time": "2020-05-18T19:51:15.626Z"
    }
   },
   "outputs": [],
   "source": [
    "device_raw_extracted_data_df = pd.read_csv(extracted_filename_with_path, header=0)\n",
    "device_raw_extracted_data_df.info()"
   ]
  },
  {
   "cell_type": "code",
   "execution_count": null,
   "metadata": {
    "ExecuteTime": {
     "end_time": "2020-05-18T19:51:17.448276Z",
     "start_time": "2020-05-18T19:51:15.628Z"
    },
    "scrolled": true
   },
   "outputs": [],
   "source": [
    "%time\n",
    "device_raw_extracted_data_df.dropna(axis=0, inplace=True)\n",
    "device_raw_extracted_data_df"
   ]
  },
  {
   "cell_type": "code",
   "execution_count": null,
   "metadata": {
    "ExecuteTime": {
     "end_time": "2020-05-18T19:51:17.449259Z",
     "start_time": "2020-05-18T19:51:15.631Z"
    }
   },
   "outputs": [],
   "source": [
    "INVALID_WORDS = set(['DEFEITO', 'TROCO', 'QUEBRADO', 'CABO', 'CONECTOR', 'PEÇA'])\n",
    "pages_contents = device_raw_extracted_data_df\n",
    "number_of_items_to_count = 10\n",
    "item_names_and_prices = []\n",
    "for i, device_row in device_raw_extracted_data_df.iterrows():\n",
    "    page_content = device_row['page_search_content']\n",
    "    item_original_name = device_row['item_original_name']\n",
    "    \n",
    "    raw_names_and_prices = re.findall(r'\"main-title\">(.+?)<\\/span>[\\s\\S]*?\"price__fraction\">([\\d\\.]+?)<\\/span>', page_content)\n",
    "\n",
    "    valid_prices = []\n",
    "    choosen_name = None\n",
    "    for item_raw_name, item_raw_price in raw_names_and_prices:\n",
    "        found_name = item_raw_name.upper()\n",
    "        if not INVALID_WORDS in set(found_name) or item_original_name.upper() in found_name:\n",
    "            if not choosen_name:\n",
    "                choosen_name = found_name\n",
    "            item_price = None\n",
    "            if '.' in item_raw_price:\n",
    "                # In this case there are more than one dot symbol\n",
    "                item_price = 0\n",
    "                raw_price_numbers_list = item_raw_price.split('.')\n",
    "                for i, number in enumerate(raw_price_numbers_list):\n",
    "                    item_price += int(number)*10**((len(raw_price_numbers_list)-i-1)*3)\n",
    "                item_price = int(item_price)\n",
    "            else:\n",
    "                item_price = int(item_raw_price)\n",
    "            valid_prices.append(item_price)\n",
    "\n",
    "    if valid_prices:\n",
    "        item_price = int(median(valid_prices))\n",
    "    else:\n",
    "        item_price = None\n",
    "\n",
    "    item_names_and_prices.append([item_original_name, choosen_name, item_price])\n",
    "print(len(item_names_and_prices))\n"
   ]
  },
  {
   "cell_type": "code",
   "execution_count": null,
   "metadata": {
    "ExecuteTime": {
     "end_time": "2020-05-18T19:51:17.450156Z",
     "start_time": "2020-05-18T19:51:15.633Z"
    }
   },
   "outputs": [],
   "source": [
    "extracted_data_df = pd.DataFrame(data=item_names_and_prices, columns=['item_original_name','item_extracted_name', 'item_price'])\n",
    "print(extracted_data_df.info())\n",
    "extracted_data_df"
   ]
  },
  {
   "cell_type": "markdown",
   "metadata": {},
   "source": [
    "##  Storing Results"
   ]
  },
  {
   "cell_type": "code",
   "execution_count": null,
   "metadata": {
    "ExecuteTime": {
     "end_time": "2020-05-18T19:51:17.452977Z",
     "start_time": "2020-05-18T19:51:15.636Z"
    }
   },
   "outputs": [],
   "source": [
    "extracted_filename = 'extracted_device_data_2'\n",
    "extracted_filename_with_path = RELATIVE_PATH_TO_DATA_FOLDER + extracted_filename + '.csv'"
   ]
  },
  {
   "cell_type": "code",
   "execution_count": null,
   "metadata": {
    "ExecuteTime": {
     "end_time": "2020-05-18T19:51:17.455175Z",
     "start_time": "2020-05-18T19:51:15.638Z"
    }
   },
   "outputs": [],
   "source": [
    "extracted_data_df.to_csv(extracted_filename_with_path, index=False)"
   ]
  },
  {
   "cell_type": "markdown",
   "metadata": {},
   "source": [
    "#  Analysing Prices"
   ]
  },
  {
   "cell_type": "code",
   "execution_count": null,
   "metadata": {
    "ExecuteTime": {
     "end_time": "2020-05-18T19:51:17.456774Z",
     "start_time": "2020-05-18T19:51:15.641Z"
    },
    "scrolled": true
   },
   "outputs": [],
   "source": [
    "device_extracted_data_df = pd.read_csv(extracted_filename_with_path, header=0)\n",
    "device_extracted_data_df.info()"
   ]
  },
  {
   "cell_type": "markdown",
   "metadata": {},
   "source": [
    "## Prices Distribution"
   ]
  },
  {
   "cell_type": "code",
   "execution_count": null,
   "metadata": {
    "ExecuteTime": {
     "end_time": "2020-05-18T19:51:17.457838Z",
     "start_time": "2020-05-18T19:51:15.643Z"
    },
    "scrolled": true
   },
   "outputs": [],
   "source": [
    "device_extracted_data_df.sort_values(by='item_price', inplace=True)\n",
    "device_extracted_data_df.plot.scatter(x=0, y='item_price', figsize=(12, 12))"
   ]
  },
  {
   "cell_type": "markdown",
   "metadata": {},
   "source": [
    "## Prices Binning"
   ]
  },
  {
   "cell_type": "code",
   "execution_count": null,
   "metadata": {
    "ExecuteTime": {
     "end_time": "2020-05-18T19:51:17.458835Z",
     "start_time": "2020-05-18T19:51:15.646Z"
    },
    "scrolled": true
   },
   "outputs": [],
   "source": [
    "device_extracted_data_df.describe()\n",
    "device_extracted_data_df.plot.hist(by=['item_price'], bins=5, figsize=(8, 8))\n"
   ]
  },
  {
   "cell_type": "markdown",
   "metadata": {
    "ExecuteTime": {
     "end_time": "2020-05-05T19:48:12.360166Z",
     "start_time": "2020-05-05T19:48:12.225979Z"
    }
   },
   "source": [
    "# Price  Ranges\n",
    "![Brazilian IBGE Salaries Ranges Research](./assets/ibge_brazilian_salary_ranges.jpg)"
   ]
  },
  {
   "cell_type": "code",
   "execution_count": null,
   "metadata": {
    "ExecuteTime": {
     "end_time": "2020-05-18T19:51:17.460467Z",
     "start_time": "2020-05-18T19:51:15.648Z"
    }
   },
   "outputs": [],
   "source": [
    "ibge_price_ranges_labels = ['very_low', 'low', 'medium', 'high', 'very_high']\n",
    "salaries_ibge_ranges = [(0, 1908), (1909, 2862), (2863, 5724), (5725, 3566)]\n",
    "ibge_price_ranges = [0]\n",
    "for i, salarie_range in enumerate(salaries_ibge_ranges):\n",
    "    threshold_price = (salarie_range[0] + salarie_range[1])//3\n",
    "    # As the values are so low, we have to increment them with the previous threshold\n",
    "    threshold_price += ibge_price_ranges[i-1]\n",
    "    ibge_price_ranges.append(threshold_price)\n",
    "ibge_price_ranges.append(float('inf'))\n",
    "\n",
    "device_extracted_data_df['ibge_price_range'] = pd.cut(device_extracted_data_df['item_price'], bins=ibge_price_ranges, labels=ibge_price_ranges_labels)\n",
    "groups = device_extracted_data_df.groupby('ibge_price_range', sort=False)\n",
    "# Plot\n",
    "fig, ax = plt.subplots()\n",
    "ax.margins(0.05) # Optional, just adds 5% padding to the autoscaling\n",
    "for name, group in groups:\n",
    "    ax.plot(group['item_original_name'], group['item_price'], marker='o', linestyle='', ms=12, label=name)\n",
    "ax.legend()\n",
    "\n",
    "plt.show()"
   ]
  },
  {
   "cell_type": "code",
   "execution_count": null,
   "metadata": {
    "ExecuteTime": {
     "end_time": "2020-05-18T19:51:17.462034Z",
     "start_time": "2020-05-18T19:51:15.651Z"
    }
   },
   "outputs": [],
   "source": [
    "device_extracted_data_df"
   ]
  },
  {
   "cell_type": "markdown",
   "metadata": {},
   "source": [
    "## Comparing with old price ranges"
   ]
  },
  {
   "cell_type": "code",
   "execution_count": null,
   "metadata": {
    "ExecuteTime": {
     "end_time": "2020-05-18T19:51:17.463042Z",
     "start_time": "2020-05-18T19:51:15.653Z"
    }
   },
   "outputs": [],
   "source": [
    "device_extracted_data_df = device_extracted_data_df.merge(right=devices_df, left_on='item_original_name', right_on='model_name', how='inner').drop(columns='model_name')\n",
    "groups = device_extracted_data_df.groupby('old_price_range', sort=False)\n",
    "# Plot\n",
    "fig, ax = plt.subplots()\n",
    "ax.margins(0.05) # Optional, just adds 5% padding to the autoscaling\n",
    "for name, group in groups:\n",
    "    ax.plot(group['item_original_name'], group['item_price'], marker='o', linestyle='', ms=12, label=name)\n",
    "ax.legend()\n",
    "\n",
    "plt.show()"
   ]
  },
  {
   "cell_type": "code",
   "execution_count": null,
   "metadata": {},
   "outputs": [],
   "source": []
  }
 ],
 "metadata": {
  "kernelspec": {
   "display_name": "Python 3",
   "language": "python",
   "name": "python3"
  },
  "language_info": {
   "codemirror_mode": {
    "name": "ipython",
    "version": 3
   },
   "file_extension": ".py",
   "mimetype": "text/x-python",
   "name": "python",
   "nbconvert_exporter": "python",
   "pygments_lexer": "ipython3",
   "version": "3.6.9"
  },
  "toc": {
   "base_numbering": 1,
   "nav_menu": {},
   "number_sections": true,
   "sideBar": true,
   "skip_h1_title": false,
   "title_cell": "Table of Contents",
   "title_sidebar": "Contents",
   "toc_cell": false,
   "toc_position": {},
   "toc_section_display": true,
   "toc_window_display": false
  },
  "varInspector": {
   "cols": {
    "lenName": 16,
    "lenType": 16,
    "lenVar": 40
   },
   "kernels_config": {
    "python": {
     "delete_cmd_postfix": "",
     "delete_cmd_prefix": "del ",
     "library": "var_list.py",
     "varRefreshCmd": "print(var_dic_list())"
    },
    "r": {
     "delete_cmd_postfix": ") ",
     "delete_cmd_prefix": "rm(",
     "library": "var_list.r",
     "varRefreshCmd": "cat(var_dic_list()) "
    }
   },
   "types_to_exclude": [
    "module",
    "function",
    "builtin_function_or_method",
    "instance",
    "_Feature"
   ],
   "window_display": false
  }
 },
 "nbformat": 4,
 "nbformat_minor": 4
}
