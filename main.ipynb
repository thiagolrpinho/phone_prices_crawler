{
 "cells": [
  {
   "cell_type": "markdown",
   "metadata": {},
   "source": [
    "# Analysing Smartphone Prices"
   ]
  },
  {
   "cell_type": "code",
   "execution_count": 14,
   "metadata": {
    "ExecuteTime": {
     "end_time": "2020-05-20T19:07:58.113590Z",
     "start_time": "2020-05-20T19:07:58.099737Z"
    },
    "scrolled": false
   },
   "outputs": [],
   "source": [
    "from statistics import stdev, median\n",
    "\n",
    "import requests\n",
    "from lxml import html\n",
    "from urllib import parse\n",
    "import re\n",
    "\n",
    "import pandas as pd\n",
    "import numpy as np\n",
    "from tqdm import tqdm\n",
    "import matplotlib.pyplot as plt"
   ]
  },
  {
   "cell_type": "markdown",
   "metadata": {},
   "source": [
    "## 1. Loading Devices Names"
   ]
  },
  {
   "cell_type": "code",
   "execution_count": 2,
   "metadata": {
    "ExecuteTime": {
     "end_time": "2020-05-20T18:49:37.271376Z",
     "start_time": "2020-05-20T18:49:37.039139Z"
    },
    "scrolled": true
   },
   "outputs": [
    {
     "name": "stdout",
     "output_type": "stream",
     "text": [
      "<class 'pandas.core.frame.DataFrame'>\n",
      "RangeIndex: 1129 entries, 0 to 1128\n",
      "Data columns (total 2 columns):\n",
      " #   Column           Non-Null Count  Dtype \n",
      "---  ------           --------------  ----- \n",
      " 0   model_name       1129 non-null   object\n",
      " 1   old_price_range  1129 non-null   object\n",
      "dtypes: object(2)\n",
      "memory usage: 17.8+ KB\n"
     ]
    }
   ],
   "source": [
    "RELATIVE_PATH_TO_DATA_FOLDER = './data/'\n",
    "filename = 'devices_using_ribonapp_data'\n",
    "filename_with_path = RELATIVE_PATH_TO_DATA_FOLDER + filename + '.csv'\n",
    "devices_df = pd.read_csv(filename_with_path, skiprows=1, names=['model_name', 'old_price_range'])\n",
    "devices_df.info()"
   ]
  },
  {
   "cell_type": "markdown",
   "metadata": {},
   "source": [
    "### Cleaning Duplicates and Missing Values"
   ]
  },
  {
   "cell_type": "code",
   "execution_count": 3,
   "metadata": {
    "ExecuteTime": {
     "end_time": "2020-05-20T18:49:37.379105Z",
     "start_time": "2020-05-20T18:49:37.282958Z"
    }
   },
   "outputs": [
    {
     "data": {
      "text/html": [
       "<div>\n",
       "<style scoped>\n",
       "    .dataframe tbody tr th:only-of-type {\n",
       "        vertical-align: middle;\n",
       "    }\n",
       "\n",
       "    .dataframe tbody tr th {\n",
       "        vertical-align: top;\n",
       "    }\n",
       "\n",
       "    .dataframe thead th {\n",
       "        text-align: right;\n",
       "    }\n",
       "</style>\n",
       "<table border=\"1\" class=\"dataframe\">\n",
       "  <thead>\n",
       "    <tr style=\"text-align: right;\">\n",
       "      <th></th>\n",
       "      <th>model_name</th>\n",
       "      <th>old_price_range</th>\n",
       "    </tr>\n",
       "  </thead>\n",
       "  <tbody>\n",
       "    <tr>\n",
       "      <th>0</th>\n",
       "      <td>2 A2005</td>\n",
       "      <td>Low</td>\n",
       "    </tr>\n",
       "    <tr>\n",
       "      <th>1</th>\n",
       "      <td>3</td>\n",
       "      <td>Low</td>\n",
       "    </tr>\n",
       "    <tr>\n",
       "      <th>2</th>\n",
       "      <td>3T</td>\n",
       "      <td>Low</td>\n",
       "    </tr>\n",
       "    <tr>\n",
       "      <th>3</th>\n",
       "      <td>4047D</td>\n",
       "      <td>Low</td>\n",
       "    </tr>\n",
       "    <tr>\n",
       "      <th>4</th>\n",
       "      <td>5</td>\n",
       "      <td>Low</td>\n",
       "    </tr>\n",
       "    <tr>\n",
       "      <th>...</th>\n",
       "      <td>...</td>\n",
       "      <td>...</td>\n",
       "    </tr>\n",
       "    <tr>\n",
       "      <th>1124</th>\n",
       "      <td>nova 4</td>\n",
       "      <td>Low</td>\n",
       "    </tr>\n",
       "    <tr>\n",
       "      <th>1125</th>\n",
       "      <td>t1_8p0lte</td>\n",
       "      <td>Low</td>\n",
       "    </tr>\n",
       "    <tr>\n",
       "      <th>1126</th>\n",
       "      <td>vivo 1724</td>\n",
       "      <td>Low</td>\n",
       "    </tr>\n",
       "    <tr>\n",
       "      <th>1127</th>\n",
       "      <td>vivo X9</td>\n",
       "      <td>Low</td>\n",
       "    </tr>\n",
       "    <tr>\n",
       "      <th>1128</th>\n",
       "      <td>vivo Y53</td>\n",
       "      <td>Low</td>\n",
       "    </tr>\n",
       "  </tbody>\n",
       "</table>\n",
       "<p>1129 rows × 2 columns</p>\n",
       "</div>"
      ],
      "text/plain": [
       "     model_name old_price_range\n",
       "0       2 A2005             Low\n",
       "1             3             Low\n",
       "2            3T             Low\n",
       "3         4047D             Low\n",
       "4             5             Low\n",
       "...         ...             ...\n",
       "1124     nova 4             Low\n",
       "1125  t1_8p0lte             Low\n",
       "1126  vivo 1724             Low\n",
       "1127    vivo X9             Low\n",
       "1128   vivo Y53             Low\n",
       "\n",
       "[1129 rows x 2 columns]"
      ]
     },
     "execution_count": 3,
     "metadata": {},
     "output_type": "execute_result"
    }
   ],
   "source": [
    "devices_df.drop_duplicates(['model_name'], inplace=True)\n",
    "devices_df.dropna(axis=0, inplace=True)\n",
    "devices_df"
   ]
  },
  {
   "cell_type": "markdown",
   "metadata": {},
   "source": [
    "### Filtering Non Informative Names"
   ]
  },
  {
   "cell_type": "code",
   "execution_count": 4,
   "metadata": {
    "ExecuteTime": {
     "end_time": "2020-05-20T18:49:37.740998Z",
     "start_time": "2020-05-20T18:49:37.723191Z"
    }
   },
   "outputs": [
    {
     "data": {
      "text/html": [
       "<div>\n",
       "<style scoped>\n",
       "    .dataframe tbody tr th:only-of-type {\n",
       "        vertical-align: middle;\n",
       "    }\n",
       "\n",
       "    .dataframe tbody tr th {\n",
       "        vertical-align: top;\n",
       "    }\n",
       "\n",
       "    .dataframe thead th {\n",
       "        text-align: right;\n",
       "    }\n",
       "</style>\n",
       "<table border=\"1\" class=\"dataframe\">\n",
       "  <thead>\n",
       "    <tr style=\"text-align: right;\">\n",
       "      <th></th>\n",
       "      <th>model_name</th>\n",
       "      <th>old_price_range</th>\n",
       "    </tr>\n",
       "  </thead>\n",
       "  <tbody>\n",
       "    <tr>\n",
       "      <th>0</th>\n",
       "      <td>2 A2005</td>\n",
       "      <td>Low</td>\n",
       "    </tr>\n",
       "    <tr>\n",
       "      <th>2</th>\n",
       "      <td>3T</td>\n",
       "      <td>Low</td>\n",
       "    </tr>\n",
       "    <tr>\n",
       "      <th>3</th>\n",
       "      <td>4047D</td>\n",
       "      <td>Low</td>\n",
       "    </tr>\n",
       "    <tr>\n",
       "      <th>5</th>\n",
       "      <td>5051J</td>\n",
       "      <td>Low</td>\n",
       "    </tr>\n",
       "    <tr>\n",
       "      <th>6</th>\n",
       "      <td>5056D</td>\n",
       "      <td>Low</td>\n",
       "    </tr>\n",
       "    <tr>\n",
       "      <th>...</th>\n",
       "      <td>...</td>\n",
       "      <td>...</td>\n",
       "    </tr>\n",
       "    <tr>\n",
       "      <th>1124</th>\n",
       "      <td>nova 4</td>\n",
       "      <td>Low</td>\n",
       "    </tr>\n",
       "    <tr>\n",
       "      <th>1125</th>\n",
       "      <td>t1_8p0lte</td>\n",
       "      <td>Low</td>\n",
       "    </tr>\n",
       "    <tr>\n",
       "      <th>1126</th>\n",
       "      <td>vivo 1724</td>\n",
       "      <td>Low</td>\n",
       "    </tr>\n",
       "    <tr>\n",
       "      <th>1127</th>\n",
       "      <td>vivo X9</td>\n",
       "      <td>Low</td>\n",
       "    </tr>\n",
       "    <tr>\n",
       "      <th>1128</th>\n",
       "      <td>vivo Y53</td>\n",
       "      <td>Low</td>\n",
       "    </tr>\n",
       "  </tbody>\n",
       "</table>\n",
       "<p>1123 rows × 2 columns</p>\n",
       "</div>"
      ],
      "text/plain": [
       "     model_name old_price_range\n",
       "0       2 A2005             Low\n",
       "2            3T             Low\n",
       "3         4047D             Low\n",
       "5         5051J             Low\n",
       "6         5056D             Low\n",
       "...         ...             ...\n",
       "1124     nova 4             Low\n",
       "1125  t1_8p0lte             Low\n",
       "1126  vivo 1724             Low\n",
       "1127    vivo X9             Low\n",
       "1128   vivo Y53             Low\n",
       "\n",
       "[1123 rows x 2 columns]"
      ]
     },
     "execution_count": 4,
     "metadata": {},
     "output_type": "execute_result"
    }
   ],
   "source": [
    "informative_names_mask = devices_df['model_name'].str.len() > 1\n",
    "devices_df = devices_df[informative_names_mask]\n",
    "devices_df"
   ]
  },
  {
   "cell_type": "markdown",
   "metadata": {},
   "source": [
    "# Searching for Prices"
   ]
  },
  {
   "cell_type": "code",
   "execution_count": null,
   "metadata": {
    "ExecuteTime": {
     "end_time": "2020-05-18T19:51:17.433059Z",
     "start_time": "2020-05-18T19:51:15.606Z"
    },
    "scrolled": true
   },
   "outputs": [],
   "source": [
    "\n",
    "\n",
    "url_base = \"https://celulares.mercadolivre.com.br/\"\n",
    "item_list = devices_df['model_name'].to_list()\n",
    "url_list = [url_base + parse.quote(item_name) for item_name in item_list]\n",
    "\n",
    "# We can use the website filtering to help our search\n",
    "# Let's filter for only devices in the tag 'Novo'\n",
    "novo_filter_xpath = '/html/body/main/div[2]/div/aside/section[2]/dl[@id=\"id_ITEM_CONDITION\"]/dd[1]/a/@href'\n",
    "products_articles_criteria = '@class=\"results-item highlighted article stack product \"'\n",
    "product_information_criteria = '@class=\"item__info-container highlighted \"'\n",
    "item_prices_criteria = '@class=\"price__container\"'\n",
    "user_agent = 'Mozilla/5.0 (X11; Linux x86_64) AppleWebKit/537.36 (KHTML, like Gecko) Chrome/36.0.1985.143 Safari/537.36'\n",
    "headers = {'User-Agent': user_agent}\n",
    "\n",
    "found_elements = []\n",
    "for i, url in tqdm(enumerate(url_list)):\n",
    "    webpage_requested = requests.get(url, headers=headers, allow_redirects=True)\n",
    "    if not webpage_requested or not webpage_requested.content:\n",
    "        found_elements.append([item_list[i], url, [], [], []])\n",
    "        continue\n",
    "\n",
    "    webpage_tree = html.fromstring(webpage_requested.content)\n",
    "\n",
    "\n",
    "    improved_url = webpage_tree.xpath(novo_filter_xpath)\n",
    "    if improved_url:\n",
    "        improved_url = improved_url[0]\n",
    "        webpage_requested = requests.get(improved_url)\n",
    "        webpage_tree = html.fromstring(webpage_requested.content)\n",
    "\n",
    "    \n",
    "    webproducts_names_xpath = '/html/body/main/div[2]/div/section/ol/li[' + products_articles_criteria + ']/div/div[' + product_information_criteria + ']/div/h2/a/span/text()'\n",
    "    webproducts_prices_xpath = '/html/body/main/div[2]/div/section/ol/li[' + products_articles_criteria +\\\n",
    "        ']/div/div['+ product_information_criteria + ']/div/div[' + item_prices_criteria + ']/div/span[2]/text()'\n",
    "\n",
    "    webproducts_names_found = webpage_tree.xpath(webproducts_names_xpath)\n",
    "    webproducts_prices_found = webpage_tree.xpath(webproducts_prices_xpath)\n",
    "    if len(webproducts_names_found) > len(webproducts_prices_found):\n",
    "        webproducts_names_found = webproducts_names_found[:len(webproducts_prices_found)]\n",
    "    elif len(webproducts_names_found) < len(webproducts_prices_found = ):\n",
    "        webproducts_prices_found = webproducts_prices_found[:len(webproducts_names_found)]\n",
    "    \n",
    "    found_elements.append([item_list[i], url, improved_url, webproducts_names_found, webproducts_prices_found])\n",
    "print(len(found_elements))"
   ]
  },
  {
   "cell_type": "code",
   "execution_count": null,
   "metadata": {
    "ExecuteTime": {
     "end_time": "2020-05-18T19:51:17.436146Z",
     "start_time": "2020-05-18T19:51:15.609Z"
    }
   },
   "outputs": [],
   "source": [
    "print(found_elements)"
   ]
  },
  {
   "cell_type": "code",
   "execution_count": null,
   "metadata": {
    "ExecuteTime": {
     "end_time": "2020-05-17T00:46:46.087695Z",
     "start_time": "2020-05-17T00:46:46.054003Z"
    }
   },
   "outputs": [],
   "source": []
  },
  {
   "cell_type": "code",
   "execution_count": null,
   "metadata": {
    "ExecuteTime": {
     "end_time": "2020-05-18T19:51:17.437757Z",
     "start_time": "2020-05-18T19:51:15.612Z"
    }
   },
   "outputs": [],
   "source": [
    "# Explode/Split column into multiple rows\n",
    "new_df = pd.DataFrame(df.City.str.split('|').tolist(), index=df).stack()\n",
    "new_df = new_df.reset_index([0, 'EmployeeId'])\n",
    "new_df.columns = ['EmployeeId', 'City']"
   ]
  },
  {
   "cell_type": "code",
   "execution_count": null,
   "metadata": {
    "ExecuteTime": {
     "end_time": "2020-05-18T19:51:17.439636Z",
     "start_time": "2020-05-18T19:51:15.614Z"
    }
   },
   "outputs": [],
   "source": [
    "url_base = \"https://celulares.mercadolivre.com.br/\"\n",
    "item_list = devices_df['model_name'].to_list()[:5]\n",
    "\n",
    "# TODO ADD OPTION TO SEARCH ONLY NEW PRODUCTS \n",
    "# title=\"Novo\" href=\"(.*?)\">\n",
    "url_list = [url_base + parse.quote(item_name) for item_name in item_list]\n",
    "found_search_contents = []"
   ]
  },
  {
   "cell_type": "code",
   "execution_count": null,
   "metadata": {
    "ExecuteTime": {
     "end_time": "2020-05-18T19:51:17.442461Z",
     "start_time": "2020-05-18T19:51:15.619Z"
    }
   },
   "outputs": [],
   "source": [
    "url_base = \"https://celulares.mercadolivre.com.br/\"\n",
    "item_list = devices_df['model_name'].to_list()\n",
    "\n",
    "# TODO ADD OPTION TO SEARCH ONLY NEW PRODUCTS \n",
    "# title=\"Novo\" href=\"(.*?)\">\n",
    "url_list = [url_base + parse.quote(item_name) for item_name in item_list]\n",
    "found_search_contents = []\n",
    "item_count = 1\n",
    "for url, item_original_name in zip(url_list, item_list):\n",
    "    print(item_count)\n",
    "    \n",
    "    item_count += 1\n",
    "    r = requests.get(url)\n",
    "    text_content = str(r.text)\n",
    "    # We can use the website filtering to help our search\n",
    "    # Let's filter for only devices in the tag 'Novo'\n",
    "    improved_url = re.search(\n",
    "             r\"\"\"id=\"id_ITEM_CONDITION\" role=\"listbox\">[\\s\\S]+?title=['\"]Novo['\"] href=['\"](\\S+)['\"]\\s*>\"\"\", text_content)\n",
    "    if improved_url:\n",
    "        improved_url = improved_url.groups()[0]\n",
    "        r = requests.get(improved_url)\n",
    "        text_content = str(r.text)\n",
    "     \n",
    "    # Let's filter the are to search for only search results\n",
    "\n",
    "    result_field_text_content = re.search(r'<ol id=\"searchResults\"(.+?)<\\/ol>', text_content)\n",
    "    if result_field_text_content:\n",
    "        result_field_text_content = result_field_text_content.groups()[0]\n",
    "    else:\n",
    "        result_field_text_content = None\n",
    "    found_search_contents.append([item_original_name, url, result_field_text_content])\n",
    "\n",
    "extracted_data_df = pd.DataFrame(data=found_search_contents, columns=['item_original_name','url', 'page_search_content'])\n",
    "extracted_data_df"
   ]
  },
  {
   "cell_type": "markdown",
   "metadata": {},
   "source": [
    "## Storing Raw Price Information"
   ]
  },
  {
   "cell_type": "code",
   "execution_count": 5,
   "metadata": {
    "ExecuteTime": {
     "end_time": "2020-05-20T18:50:21.865522Z",
     "start_time": "2020-05-20T18:50:21.860197Z"
    }
   },
   "outputs": [],
   "source": [
    "extracted_filename = 'scrapy_found_devices'\n",
    "extracted_filename_with_path = RELATIVE_PATH_TO_DATA_FOLDER + extracted_filename + '.csv'"
   ]
  },
  {
   "cell_type": "code",
   "execution_count": null,
   "metadata": {
    "ExecuteTime": {
     "end_time": "2020-05-18T19:51:17.445863Z",
     "start_time": "2020-05-18T19:51:15.624Z"
    }
   },
   "outputs": [],
   "source": [
    "extracted_data_df.to_csv(extracted_filename_with_path, index=False)"
   ]
  },
  {
   "cell_type": "markdown",
   "metadata": {},
   "source": [
    "## Treating Data"
   ]
  },
  {
   "cell_type": "code",
   "execution_count": 6,
   "metadata": {
    "ExecuteTime": {
     "end_time": "2020-05-20T18:50:24.868664Z",
     "start_time": "2020-05-20T18:50:24.459846Z"
    }
   },
   "outputs": [
    {
     "name": "stdout",
     "output_type": "stream",
     "text": [
      "<class 'pandas.core.frame.DataFrame'>\n",
      "RangeIndex: 22272 entries, 0 to 22271\n",
      "Data columns (total 5 columns):\n",
      " #   Column              Non-Null Count  Dtype \n",
      "---  ------              --------------  ----- \n",
      " 0   item_original_name  22272 non-null  object\n",
      " 1   url                 22272 non-null  object\n",
      " 2   improved_url        22272 non-null  object\n",
      " 3   device_name         22272 non-null  object\n",
      " 4   device_price        22272 non-null  object\n",
      "dtypes: object(5)\n",
      "memory usage: 870.1+ KB\n"
     ]
    }
   ],
   "source": [
    "device_raw_extracted_data_df = pd.read_csv(extracted_filename_with_path, header=0)\n",
    "device_raw_extracted_data_df.info()"
   ]
  },
  {
   "cell_type": "code",
   "execution_count": 15,
   "metadata": {
    "ExecuteTime": {
     "end_time": "2020-05-20T19:08:04.827510Z",
     "start_time": "2020-05-20T19:08:04.739685Z"
    },
    "scrolled": false
   },
   "outputs": [
    {
     "name": "stdout",
     "output_type": "stream",
     "text": [
      "CPU times: user 7 µs, sys: 0 ns, total: 7 µs\n",
      "Wall time: 12.2 µs\n"
     ]
    },
    {
     "data": {
      "text/html": [
       "<div>\n",
       "<style scoped>\n",
       "    .dataframe tbody tr th:only-of-type {\n",
       "        vertical-align: middle;\n",
       "    }\n",
       "\n",
       "    .dataframe tbody tr th {\n",
       "        vertical-align: top;\n",
       "    }\n",
       "\n",
       "    .dataframe thead th {\n",
       "        text-align: right;\n",
       "    }\n",
       "</style>\n",
       "<table border=\"1\" class=\"dataframe\">\n",
       "  <thead>\n",
       "    <tr style=\"text-align: right;\">\n",
       "      <th></th>\n",
       "      <th>item_original_name</th>\n",
       "      <th>url</th>\n",
       "      <th>improved_url</th>\n",
       "      <th>device_name</th>\n",
       "      <th>device_price</th>\n",
       "    </tr>\n",
       "  </thead>\n",
       "  <tbody>\n",
       "    <tr>\n",
       "      <th>0</th>\n",
       "      <td>5051j</td>\n",
       "      <td>https://celulares.mercadolivre.com.br/5051j</td>\n",
       "      <td>[]</td>\n",
       "      <td>PLACA 2CHIP DO CELULAR ALCATEL MODELO 5051J. ...</td>\n",
       "      <td>75</td>\n",
       "    </tr>\n",
       "    <tr>\n",
       "      <th>1</th>\n",
       "      <td>5051j</td>\n",
       "      <td>https://celulares.mercadolivre.com.br/5051j</td>\n",
       "      <td>[]</td>\n",
       "      <td>SMARTPHONE ALCATEL POP 4 PREMIUM (5051J). TEL...</td>\n",
       "      <td>140</td>\n",
       "    </tr>\n",
       "    <tr>\n",
       "      <th>2</th>\n",
       "      <td>5051j</td>\n",
       "      <td>https://celulares.mercadolivre.com.br/5051j</td>\n",
       "      <td>[]</td>\n",
       "      <td>CELULAR ALCATEL POP</td>\n",
       "      <td>200</td>\n",
       "    </tr>\n",
       "    <tr>\n",
       "      <th>3</th>\n",
       "      <td>6039j</td>\n",
       "      <td>https://celulares.mercadolivre.com.br/6039j</td>\n",
       "      <td>[]</td>\n",
       "      <td>ALCATEL ONE TOUCH IDOL 3 6039J - 13MP, 4G, DU...</td>\n",
       "      <td>649</td>\n",
       "    </tr>\n",
       "    <tr>\n",
       "      <th>4</th>\n",
       "      <td>6039j</td>\n",
       "      <td>https://celulares.mercadolivre.com.br/6039j</td>\n",
       "      <td>[]</td>\n",
       "      <td>ALCATEL ONE TOUCH IDOL 3 6039J 13MP, 4G, DUAL...</td>\n",
       "      <td>599</td>\n",
       "    </tr>\n",
       "    <tr>\n",
       "      <th>...</th>\n",
       "      <td>...</td>\n",
       "      <td>...</td>\n",
       "      <td>...</td>\n",
       "      <td>...</td>\n",
       "      <td>...</td>\n",
       "    </tr>\n",
       "    <tr>\n",
       "      <th>22267</th>\n",
       "      <td>nova-4</td>\n",
       "      <td>https://celulares.mercadolivre.com.br/nova-4</td>\n",
       "      <td>[]</td>\n",
       "      <td>SAMSUNG GALAXY S9 DUAL SIM 128 GB PRETO-MEIA-...</td>\n",
       "      <td>2999</td>\n",
       "    </tr>\n",
       "    <tr>\n",
       "      <th>22268</th>\n",
       "      <td>nova-4</td>\n",
       "      <td>https://celulares.mercadolivre.com.br/nova-4</td>\n",
       "      <td>[]</td>\n",
       "      <td>SONY XPERIA XZ PREMIUM DUAL SIM 64 GB PRETO-M...</td>\n",
       "      <td>3740</td>\n",
       "    </tr>\n",
       "    <tr>\n",
       "      <th>22269</th>\n",
       "      <td>nova-4</td>\n",
       "      <td>https://celulares.mercadolivre.com.br/nova-4</td>\n",
       "      <td>[]</td>\n",
       "      <td>XIAOMI REDMI NOTE 8 DUAL SIM 32 GB BRANCO-LUA...</td>\n",
       "      <td>1499</td>\n",
       "    </tr>\n",
       "    <tr>\n",
       "      <th>22270</th>\n",
       "      <td>nova-4</td>\n",
       "      <td>https://celulares.mercadolivre.com.br/nova-4</td>\n",
       "      <td>[]</td>\n",
       "      <td>MOTOROLA MOTO G7 DUAL SIM 64 GB CERAMIC BLACK...</td>\n",
       "      <td>1399</td>\n",
       "    </tr>\n",
       "    <tr>\n",
       "      <th>22271</th>\n",
       "      <td>nova-4</td>\n",
       "      <td>https://celulares.mercadolivre.com.br/nova-4</td>\n",
       "      <td>[]</td>\n",
       "      <td>ASUS ZENFONE 6 ZS630KL DUAL SIM 128 GB PRATA-...</td>\n",
       "      <td>2899</td>\n",
       "    </tr>\n",
       "  </tbody>\n",
       "</table>\n",
       "<p>22272 rows × 5 columns</p>\n",
       "</div>"
      ],
      "text/plain": [
       "      item_original_name                                           url  \\\n",
       "0                  5051j   https://celulares.mercadolivre.com.br/5051j   \n",
       "1                  5051j   https://celulares.mercadolivre.com.br/5051j   \n",
       "2                  5051j   https://celulares.mercadolivre.com.br/5051j   \n",
       "3                  6039j   https://celulares.mercadolivre.com.br/6039j   \n",
       "4                  6039j   https://celulares.mercadolivre.com.br/6039j   \n",
       "...                  ...                                           ...   \n",
       "22267             nova-4  https://celulares.mercadolivre.com.br/nova-4   \n",
       "22268             nova-4  https://celulares.mercadolivre.com.br/nova-4   \n",
       "22269             nova-4  https://celulares.mercadolivre.com.br/nova-4   \n",
       "22270             nova-4  https://celulares.mercadolivre.com.br/nova-4   \n",
       "22271             nova-4  https://celulares.mercadolivre.com.br/nova-4   \n",
       "\n",
       "      improved_url                                        device_name  \\\n",
       "0               []   PLACA 2CHIP DO CELULAR ALCATEL MODELO 5051J. ...   \n",
       "1               []   SMARTPHONE ALCATEL POP 4 PREMIUM (5051J). TEL...   \n",
       "2               []                               CELULAR ALCATEL POP    \n",
       "3               []   ALCATEL ONE TOUCH IDOL 3 6039J - 13MP, 4G, DU...   \n",
       "4               []   ALCATEL ONE TOUCH IDOL 3 6039J 13MP, 4G, DUAL...   \n",
       "...            ...                                                ...   \n",
       "22267           []   SAMSUNG GALAXY S9 DUAL SIM 128 GB PRETO-MEIA-...   \n",
       "22268           []   SONY XPERIA XZ PREMIUM DUAL SIM 64 GB PRETO-M...   \n",
       "22269           []   XIAOMI REDMI NOTE 8 DUAL SIM 32 GB BRANCO-LUA...   \n",
       "22270           []   MOTOROLA MOTO G7 DUAL SIM 64 GB CERAMIC BLACK...   \n",
       "22271           []   ASUS ZENFONE 6 ZS630KL DUAL SIM 128 GB PRATA-...   \n",
       "\n",
       "       device_price  \n",
       "0                75  \n",
       "1               140  \n",
       "2               200  \n",
       "3               649  \n",
       "4               599  \n",
       "...             ...  \n",
       "22267          2999  \n",
       "22268          3740  \n",
       "22269          1499  \n",
       "22270          1399  \n",
       "22271          2899  \n",
       "\n",
       "[22272 rows x 5 columns]"
      ]
     },
     "execution_count": 15,
     "metadata": {},
     "output_type": "execute_result"
    }
   ],
   "source": [
    "%time\n",
    "device_raw_extracted_data_df.dropna(axis=0, inplace=True)\n",
    "device_raw_extracted_data_df['device_price'] = pd.to_numeric(device_raw_extracted_data_df['device_price'], errors='coerce').fillna(0).astype(np.int64)\n",
    "device_raw_extracted_data_df"
   ]
  },
  {
   "cell_type": "code",
   "execution_count": 16,
   "metadata": {
    "ExecuteTime": {
     "end_time": "2020-05-20T19:08:15.880348Z",
     "start_time": "2020-05-20T19:08:15.784778Z"
    }
   },
   "outputs": [
    {
     "data": {
      "text/html": [
       "<div>\n",
       "<style scoped>\n",
       "    .dataframe tbody tr th:only-of-type {\n",
       "        vertical-align: middle;\n",
       "    }\n",
       "\n",
       "    .dataframe tbody tr th {\n",
       "        vertical-align: top;\n",
       "    }\n",
       "\n",
       "    .dataframe thead th {\n",
       "        text-align: right;\n",
       "    }\n",
       "</style>\n",
       "<table border=\"1\" class=\"dataframe\">\n",
       "  <thead>\n",
       "    <tr style=\"text-align: right;\">\n",
       "      <th></th>\n",
       "      <th>item_original_name</th>\n",
       "      <th>url</th>\n",
       "      <th>improved_url</th>\n",
       "      <th>device_name</th>\n",
       "      <th>device_price</th>\n",
       "    </tr>\n",
       "  </thead>\n",
       "  <tbody>\n",
       "    <tr>\n",
       "      <th>0</th>\n",
       "      <td>5051j</td>\n",
       "      <td>https://celulares.mercadolivre.com.br/5051j</td>\n",
       "      <td>[]</td>\n",
       "      <td>PLACA 2CHIP DO CELULAR ALCATEL MODELO 5051J. ...</td>\n",
       "      <td>75</td>\n",
       "    </tr>\n",
       "    <tr>\n",
       "      <th>1</th>\n",
       "      <td>5051j</td>\n",
       "      <td>https://celulares.mercadolivre.com.br/5051j</td>\n",
       "      <td>[]</td>\n",
       "      <td>SMARTPHONE ALCATEL POP 4 PREMIUM (5051J). TEL...</td>\n",
       "      <td>140</td>\n",
       "    </tr>\n",
       "    <tr>\n",
       "      <th>2</th>\n",
       "      <td>5051j</td>\n",
       "      <td>https://celulares.mercadolivre.com.br/5051j</td>\n",
       "      <td>[]</td>\n",
       "      <td>CELULAR ALCATEL POP</td>\n",
       "      <td>200</td>\n",
       "    </tr>\n",
       "    <tr>\n",
       "      <th>3</th>\n",
       "      <td>6039j</td>\n",
       "      <td>https://celulares.mercadolivre.com.br/6039j</td>\n",
       "      <td>[]</td>\n",
       "      <td>ALCATEL ONE TOUCH IDOL 3 6039J - 13MP, 4G, DU...</td>\n",
       "      <td>649</td>\n",
       "    </tr>\n",
       "    <tr>\n",
       "      <th>4</th>\n",
       "      <td>6039j</td>\n",
       "      <td>https://celulares.mercadolivre.com.br/6039j</td>\n",
       "      <td>[]</td>\n",
       "      <td>ALCATEL ONE TOUCH IDOL 3 6039J 13MP, 4G, DUAL...</td>\n",
       "      <td>599</td>\n",
       "    </tr>\n",
       "    <tr>\n",
       "      <th>...</th>\n",
       "      <td>...</td>\n",
       "      <td>...</td>\n",
       "      <td>...</td>\n",
       "      <td>...</td>\n",
       "      <td>...</td>\n",
       "    </tr>\n",
       "    <tr>\n",
       "      <th>22267</th>\n",
       "      <td>nova-4</td>\n",
       "      <td>https://celulares.mercadolivre.com.br/nova-4</td>\n",
       "      <td>[]</td>\n",
       "      <td>SAMSUNG GALAXY S9 DUAL SIM 128 GB PRETO-MEIA-...</td>\n",
       "      <td>2999</td>\n",
       "    </tr>\n",
       "    <tr>\n",
       "      <th>22268</th>\n",
       "      <td>nova-4</td>\n",
       "      <td>https://celulares.mercadolivre.com.br/nova-4</td>\n",
       "      <td>[]</td>\n",
       "      <td>SONY XPERIA XZ PREMIUM DUAL SIM 64 GB PRETO-M...</td>\n",
       "      <td>3740</td>\n",
       "    </tr>\n",
       "    <tr>\n",
       "      <th>22269</th>\n",
       "      <td>nova-4</td>\n",
       "      <td>https://celulares.mercadolivre.com.br/nova-4</td>\n",
       "      <td>[]</td>\n",
       "      <td>XIAOMI REDMI NOTE 8 DUAL SIM 32 GB BRANCO-LUA...</td>\n",
       "      <td>1499</td>\n",
       "    </tr>\n",
       "    <tr>\n",
       "      <th>22270</th>\n",
       "      <td>nova-4</td>\n",
       "      <td>https://celulares.mercadolivre.com.br/nova-4</td>\n",
       "      <td>[]</td>\n",
       "      <td>MOTOROLA MOTO G7 DUAL SIM 64 GB CERAMIC BLACK...</td>\n",
       "      <td>1399</td>\n",
       "    </tr>\n",
       "    <tr>\n",
       "      <th>22271</th>\n",
       "      <td>nova-4</td>\n",
       "      <td>https://celulares.mercadolivre.com.br/nova-4</td>\n",
       "      <td>[]</td>\n",
       "      <td>ASUS ZENFONE 6 ZS630KL DUAL SIM 128 GB PRATA-...</td>\n",
       "      <td>2899</td>\n",
       "    </tr>\n",
       "  </tbody>\n",
       "</table>\n",
       "<p>20489 rows × 5 columns</p>\n",
       "</div>"
      ],
      "text/plain": [
       "      item_original_name                                           url  \\\n",
       "0                  5051j   https://celulares.mercadolivre.com.br/5051j   \n",
       "1                  5051j   https://celulares.mercadolivre.com.br/5051j   \n",
       "2                  5051j   https://celulares.mercadolivre.com.br/5051j   \n",
       "3                  6039j   https://celulares.mercadolivre.com.br/6039j   \n",
       "4                  6039j   https://celulares.mercadolivre.com.br/6039j   \n",
       "...                  ...                                           ...   \n",
       "22267             nova-4  https://celulares.mercadolivre.com.br/nova-4   \n",
       "22268             nova-4  https://celulares.mercadolivre.com.br/nova-4   \n",
       "22269             nova-4  https://celulares.mercadolivre.com.br/nova-4   \n",
       "22270             nova-4  https://celulares.mercadolivre.com.br/nova-4   \n",
       "22271             nova-4  https://celulares.mercadolivre.com.br/nova-4   \n",
       "\n",
       "      improved_url                                        device_name  \\\n",
       "0               []   PLACA 2CHIP DO CELULAR ALCATEL MODELO 5051J. ...   \n",
       "1               []   SMARTPHONE ALCATEL POP 4 PREMIUM (5051J). TEL...   \n",
       "2               []                               CELULAR ALCATEL POP    \n",
       "3               []   ALCATEL ONE TOUCH IDOL 3 6039J - 13MP, 4G, DU...   \n",
       "4               []   ALCATEL ONE TOUCH IDOL 3 6039J 13MP, 4G, DUAL...   \n",
       "...            ...                                                ...   \n",
       "22267           []   SAMSUNG GALAXY S9 DUAL SIM 128 GB PRETO-MEIA-...   \n",
       "22268           []   SONY XPERIA XZ PREMIUM DUAL SIM 64 GB PRETO-M...   \n",
       "22269           []   XIAOMI REDMI NOTE 8 DUAL SIM 32 GB BRANCO-LUA...   \n",
       "22270           []   MOTOROLA MOTO G7 DUAL SIM 64 GB CERAMIC BLACK...   \n",
       "22271           []   ASUS ZENFONE 6 ZS630KL DUAL SIM 128 GB PRATA-...   \n",
       "\n",
       "       device_price  \n",
       "0                75  \n",
       "1               140  \n",
       "2               200  \n",
       "3               649  \n",
       "4               599  \n",
       "...             ...  \n",
       "22267          2999  \n",
       "22268          3740  \n",
       "22269          1499  \n",
       "22270          1399  \n",
       "22271          2899  \n",
       "\n",
       "[20489 rows x 5 columns]"
      ]
     },
     "execution_count": 16,
     "metadata": {},
     "output_type": "execute_result"
    }
   ],
   "source": [
    "INVALID_WORDS = set(['DEFEITO', 'TROCO', 'QUEBRADO', 'CABO', 'CONECTOR', 'PEÇA'])\n",
    "valid_rows_mask = ~device_raw_extracted_data_df['device_name'].str.contains('|'.join(INVALID_WORDS))\n",
    "device_extracted_data_df = device_raw_extracted_data_df[valid_rows_mask]\n",
    "device_extracted_data_df"
   ]
  },
  {
   "cell_type": "code",
   "execution_count": 18,
   "metadata": {
    "ExecuteTime": {
     "end_time": "2020-05-20T19:08:53.999400Z",
     "start_time": "2020-05-20T19:08:53.973605Z"
    }
   },
   "outputs": [
    {
     "data": {
      "text/html": [
       "<div>\n",
       "<style scoped>\n",
       "    .dataframe tbody tr th:only-of-type {\n",
       "        vertical-align: middle;\n",
       "    }\n",
       "\n",
       "    .dataframe tbody tr th {\n",
       "        vertical-align: top;\n",
       "    }\n",
       "\n",
       "    .dataframe thead th {\n",
       "        text-align: right;\n",
       "    }\n",
       "</style>\n",
       "<table border=\"1\" class=\"dataframe\">\n",
       "  <thead>\n",
       "    <tr style=\"text-align: right;\">\n",
       "      <th></th>\n",
       "      <th>device_price</th>\n",
       "    </tr>\n",
       "    <tr>\n",
       "      <th>item_original_name</th>\n",
       "      <th></th>\n",
       "    </tr>\n",
       "  </thead>\n",
       "  <tbody>\n",
       "    <tr>\n",
       "      <th>3t</th>\n",
       "      <td>2400.0</td>\n",
       "    </tr>\n",
       "    <tr>\n",
       "      <th>5051j</th>\n",
       "      <td>140.0</td>\n",
       "    </tr>\n",
       "    <tr>\n",
       "      <th>5t</th>\n",
       "      <td>2549.0</td>\n",
       "    </tr>\n",
       "    <tr>\n",
       "      <th>6039j</th>\n",
       "      <td>624.0</td>\n",
       "    </tr>\n",
       "    <tr>\n",
       "      <th>6t</th>\n",
       "      <td>2350.0</td>\n",
       "    </tr>\n",
       "    <tr>\n",
       "      <th>...</th>\n",
       "      <td>...</td>\n",
       "    </tr>\n",
       "    <tr>\n",
       "      <th>zenfone3</th>\n",
       "      <td>650.0</td>\n",
       "    </tr>\n",
       "    <tr>\n",
       "      <th>zenfone4-%28ze554kl%29</th>\n",
       "      <td>850.0</td>\n",
       "    </tr>\n",
       "    <tr>\n",
       "      <th>zs621kl%29-zenfone%25205z%2520%2528zs620kl</th>\n",
       "      <td>748.0</td>\n",
       "    </tr>\n",
       "    <tr>\n",
       "      <th>zte-blade-a460</th>\n",
       "      <td>284.5</td>\n",
       "    </tr>\n",
       "    <tr>\n",
       "      <th>zte-blade-a522</th>\n",
       "      <td>400.0</td>\n",
       "    </tr>\n",
       "  </tbody>\n",
       "</table>\n",
       "<p>837 rows × 1 columns</p>\n",
       "</div>"
      ],
      "text/plain": [
       "                                            device_price\n",
       "item_original_name                                      \n",
       "3t                                                2400.0\n",
       "5051j                                              140.0\n",
       "5t                                                2549.0\n",
       "6039j                                              624.0\n",
       "6t                                                2350.0\n",
       "...                                                  ...\n",
       "zenfone3                                           650.0\n",
       "zenfone4-%28ze554kl%29                             850.0\n",
       "zs621kl%29-zenfone%25205z%2520%2528zs620kl         748.0\n",
       "zte-blade-a460                                     284.5\n",
       "zte-blade-a522                                     400.0\n",
       "\n",
       "[837 rows x 1 columns]"
      ]
     },
     "execution_count": 18,
     "metadata": {},
     "output_type": "execute_result"
    }
   ],
   "source": [
    "extracted_data_df = device_extracted_data_df.groupby(\"item_original_name\").median()\n",
    "extracted_data_df"
   ]
  },
  {
   "cell_type": "markdown",
   "metadata": {},
   "source": [
    "##  Storing Results"
   ]
  },
  {
   "cell_type": "code",
   "execution_count": null,
   "metadata": {
    "ExecuteTime": {
     "end_time": "2020-05-18T19:51:17.452977Z",
     "start_time": "2020-05-18T19:51:15.636Z"
    }
   },
   "outputs": [],
   "source": [
    "extracted_filename = 'extracted_device_data_2'\n",
    "extracted_filename_with_path = RELATIVE_PATH_TO_DATA_FOLDER + extracted_filename + '.csv'"
   ]
  },
  {
   "cell_type": "code",
   "execution_count": null,
   "metadata": {
    "ExecuteTime": {
     "end_time": "2020-05-18T19:51:17.455175Z",
     "start_time": "2020-05-18T19:51:15.638Z"
    }
   },
   "outputs": [],
   "source": [
    "extracted_data_df.to_csv(extracted_filename_with_path, index=False)"
   ]
  },
  {
   "cell_type": "markdown",
   "metadata": {},
   "source": [
    "#  Analysing Prices"
   ]
  },
  {
   "cell_type": "code",
   "execution_count": null,
   "metadata": {
    "ExecuteTime": {
     "end_time": "2020-05-18T19:51:17.456774Z",
     "start_time": "2020-05-18T19:51:15.641Z"
    },
    "scrolled": true
   },
   "outputs": [],
   "source": [
    "device_extracted_data_df = pd.read_csv(extracted_filename_with_path, header=0)\n",
    "device_extracted_data_df.info()"
   ]
  },
  {
   "cell_type": "markdown",
   "metadata": {},
   "source": [
    "## Prices Distribution"
   ]
  },
  {
   "cell_type": "code",
   "execution_count": null,
   "metadata": {
    "ExecuteTime": {
     "end_time": "2020-05-18T19:51:17.457838Z",
     "start_time": "2020-05-18T19:51:15.643Z"
    },
    "scrolled": true
   },
   "outputs": [],
   "source": [
    "device_extracted_data_df.sort_values(by='item_price', inplace=True)\n",
    "device_extracted_data_df.plot.scatter(x=0, y='item_price', figsize=(12, 12))"
   ]
  },
  {
   "cell_type": "markdown",
   "metadata": {},
   "source": [
    "## Prices Binning"
   ]
  },
  {
   "cell_type": "code",
   "execution_count": null,
   "metadata": {
    "ExecuteTime": {
     "end_time": "2020-05-18T19:51:17.458835Z",
     "start_time": "2020-05-18T19:51:15.646Z"
    },
    "scrolled": true
   },
   "outputs": [],
   "source": [
    "device_extracted_data_df.describe()\n",
    "device_extracted_data_df.plot.hist(by=['item_price'], bins=5, figsize=(8, 8))\n"
   ]
  },
  {
   "cell_type": "markdown",
   "metadata": {
    "ExecuteTime": {
     "end_time": "2020-05-05T19:48:12.360166Z",
     "start_time": "2020-05-05T19:48:12.225979Z"
    }
   },
   "source": [
    "# Price  Ranges\n",
    "![Brazilian IBGE Salaries Ranges Research](./assets/ibge_brazilian_salary_ranges.jpg)"
   ]
  },
  {
   "cell_type": "code",
   "execution_count": null,
   "metadata": {
    "ExecuteTime": {
     "end_time": "2020-05-18T19:51:17.460467Z",
     "start_time": "2020-05-18T19:51:15.648Z"
    }
   },
   "outputs": [],
   "source": [
    "ibge_price_ranges_labels = ['very_low', 'low', 'medium', 'high', 'very_high']\n",
    "salaries_ibge_ranges = [(0, 1908), (1909, 2862), (2863, 5724), (5725, 3566)]\n",
    "ibge_price_ranges = [0]\n",
    "for i, salarie_range in enumerate(salaries_ibge_ranges):\n",
    "    threshold_price = (salarie_range[0] + salarie_range[1])//3\n",
    "    # As the values are so low, we have to increment them with the previous threshold\n",
    "    threshold_price += ibge_price_ranges[i-1]\n",
    "    ibge_price_ranges.append(threshold_price)\n",
    "ibge_price_ranges.append(float('inf'))\n",
    "\n",
    "device_extracted_data_df['ibge_price_range'] = pd.cut(device_extracted_data_df['item_price'], bins=ibge_price_ranges, labels=ibge_price_ranges_labels)\n",
    "groups = device_extracted_data_df.groupby('ibge_price_range', sort=False)\n",
    "# Plot\n",
    "fig, ax = plt.subplots()\n",
    "ax.margins(0.05) # Optional, just adds 5% padding to the autoscaling\n",
    "for name, group in groups:\n",
    "    ax.plot(group['item_original_name'], group['item_price'], marker='o', linestyle='', ms=12, label=name)\n",
    "ax.legend()\n",
    "\n",
    "plt.show()"
   ]
  },
  {
   "cell_type": "code",
   "execution_count": null,
   "metadata": {
    "ExecuteTime": {
     "end_time": "2020-05-18T19:51:17.462034Z",
     "start_time": "2020-05-18T19:51:15.651Z"
    }
   },
   "outputs": [],
   "source": [
    "device_extracted_data_df"
   ]
  },
  {
   "cell_type": "markdown",
   "metadata": {},
   "source": [
    "## Comparing with old price ranges"
   ]
  },
  {
   "cell_type": "code",
   "execution_count": null,
   "metadata": {
    "ExecuteTime": {
     "end_time": "2020-05-18T19:51:17.463042Z",
     "start_time": "2020-05-18T19:51:15.653Z"
    }
   },
   "outputs": [],
   "source": [
    "device_extracted_data_df = device_extracted_data_df.merge(right=devices_df, left_on='item_original_name', right_on='model_name', how='inner').drop(columns='model_name')\n",
    "groups = device_extracted_data_df.groupby('old_price_range', sort=False)\n",
    "# Plot\n",
    "fig, ax = plt.subplots()\n",
    "ax.margins(0.05) # Optional, just adds 5% padding to the autoscaling\n",
    "for name, group in groups:\n",
    "    ax.plot(group['item_original_name'], group['item_price'], marker='o', linestyle='', ms=12, label=name)\n",
    "ax.legend()\n",
    "\n",
    "plt.show()"
   ]
  },
  {
   "cell_type": "code",
   "execution_count": null,
   "metadata": {},
   "outputs": [],
   "source": []
  }
 ],
 "metadata": {
  "kernelspec": {
   "display_name": "Python 3",
   "language": "python",
   "name": "python3"
  },
  "language_info": {
   "codemirror_mode": {
    "name": "ipython",
    "version": 3
   },
   "file_extension": ".py",
   "mimetype": "text/x-python",
   "name": "python",
   "nbconvert_exporter": "python",
   "pygments_lexer": "ipython3",
   "version": "3.6.9"
  },
  "toc": {
   "base_numbering": 1,
   "nav_menu": {},
   "number_sections": true,
   "sideBar": true,
   "skip_h1_title": false,
   "title_cell": "Table of Contents",
   "title_sidebar": "Contents",
   "toc_cell": false,
   "toc_position": {},
   "toc_section_display": true,
   "toc_window_display": false
  },
  "varInspector": {
   "cols": {
    "lenName": 16,
    "lenType": 16,
    "lenVar": 40
   },
   "kernels_config": {
    "python": {
     "delete_cmd_postfix": "",
     "delete_cmd_prefix": "del ",
     "library": "var_list.py",
     "varRefreshCmd": "print(var_dic_list())"
    },
    "r": {
     "delete_cmd_postfix": ") ",
     "delete_cmd_prefix": "rm(",
     "library": "var_list.r",
     "varRefreshCmd": "cat(var_dic_list()) "
    }
   },
   "types_to_exclude": [
    "module",
    "function",
    "builtin_function_or_method",
    "instance",
    "_Feature"
   ],
   "window_display": false
  }
 },
 "nbformat": 4,
 "nbformat_minor": 4
}
