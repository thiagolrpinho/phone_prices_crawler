{
 "cells": [
  {
   "cell_type": "markdown",
   "metadata": {},
   "source": [
    "# Analysing Smartphone Prices"
   ]
  },
  {
   "cell_type": "code",
   "execution_count": 1,
   "metadata": {
    "ExecuteTime": {
     "end_time": "2020-05-05T19:43:27.600525Z",
     "start_time": "2020-05-05T19:43:22.867960Z"
    },
    "scrolled": false
   },
   "outputs": [],
   "source": [
    "import requests\n",
    "from urllib import parse\n",
    "import re\n",
    "\n",
    "import pandas as pd\n",
    "from tqdm import tqdm\n",
    "import matplotlib.pyplot as plt"
   ]
  },
  {
   "cell_type": "markdown",
   "metadata": {},
   "source": [
    "## 1. Loading Devices Names"
   ]
  },
  {
   "cell_type": "code",
   "execution_count": 2,
   "metadata": {
    "ExecuteTime": {
     "end_time": "2020-05-05T19:43:28.313715Z",
     "start_time": "2020-05-05T19:43:27.677012Z"
    },
    "scrolled": true
   },
   "outputs": [
    {
     "name": "stdout",
     "output_type": "stream",
     "text": [
      "<class 'pandas.core.frame.DataFrame'>\n",
      "RangeIndex: 1130 entries, 0 to 1129\n",
      "Data columns (total 2 columns):\n",
      " #   Column           Non-Null Count  Dtype \n",
      "---  ------           --------------  ----- \n",
      " 0   model_name       1130 non-null   object\n",
      " 1   old_price_range  1130 non-null   object\n",
      "dtypes: object(2)\n",
      "memory usage: 17.8+ KB\n"
     ]
    }
   ],
   "source": [
    "RELATIVE_PATH_TO_DATA_FOLDER = './data/'\n",
    "filename = 'devices_using_ribonapp_data'\n",
    "filename_with_path = RELATIVE_PATH_TO_DATA_FOLDER + filename + '.csv'\n",
    "devices_df = pd.read_csv(filename_with_path, skiprows=0, names=['model_name', 'old_price_range'])\n",
    "devices_df.info()"
   ]
  },
  {
   "cell_type": "markdown",
   "metadata": {},
   "source": [
    "### 1.1 Cleaning Duplicates and Missing Values"
   ]
  },
  {
   "cell_type": "code",
   "execution_count": 3,
   "metadata": {
    "ExecuteTime": {
     "end_time": "2020-05-05T19:43:30.034769Z",
     "start_time": "2020-05-05T19:43:30.002872Z"
    }
   },
   "outputs": [
    {
     "name": "stdout",
     "output_type": "stream",
     "text": [
      "<class 'pandas.core.frame.DataFrame'>\n",
      "Int64Index: 1130 entries, 0 to 1129\n",
      "Data columns (total 2 columns):\n",
      " #   Column           Non-Null Count  Dtype \n",
      "---  ------           --------------  ----- \n",
      " 0   model_name       1130 non-null   object\n",
      " 1   old_price_range  1130 non-null   object\n",
      "dtypes: object(2)\n",
      "memory usage: 26.5+ KB\n"
     ]
    }
   ],
   "source": [
    "devices_df.drop_duplicates(['model_name'], inplace=True)\n",
    "devices_df.dropna(axis=0, inplace=True)\n",
    "devices_df.info()"
   ]
  },
  {
   "cell_type": "markdown",
   "metadata": {},
   "source": [
    "## 2. Searching for Prices"
   ]
  },
  {
   "cell_type": "code",
   "execution_count": null,
   "metadata": {
    "ExecuteTime": {
     "end_time": "2020-04-25T17:06:29.354023Z",
     "start_time": "2020-04-25T16:29:42.387519Z"
    }
   },
   "outputs": [],
   "source": [
    "url_base = \"https://celulares.mercadolivre.com.br/\"\n",
    "item_list = devices_df['model_name'].to_list()\n",
    "\n",
    "url_list = [url_base + parse.quote(item_name) for item_name in item_list]\n",
    "item_list_tuple = []\n",
    "\n",
    "for url, item_original_name in tdqm(zip(url_list, item_list)):\n",
    "    r = requests.get(url)\n",
    "    text_content = str(r.text)\n",
    "    item_name = re.search(r'class=\"main-title\">([\\s\\S]+?)<\\/span>', text_content)\n",
    "    item_price = re.search(r'price__fraction\">(\\S+)<\\/span>', text_content)\n",
    "    if item_name:\n",
    "        item_name = item_name.groups()[0]\n",
    "    if item_price:\n",
    "        item_price = item_price.groups()[0]\n",
    "    item_list_tuple.append((item_original_name, item_name, item_price))\n",
    "\n",
    "\n",
    "extracted_data_df = pd.DataFrame(data=item_list_tuple, columns=['item_original_name','item_extracted_name', 'item_price'])\n",
    "print(extracted_data_df.info())"
   ]
  },
  {
   "cell_type": "markdown",
   "metadata": {},
   "source": [
    "### 2.1 Treating Data"
   ]
  },
  {
   "cell_type": "code",
   "execution_count": null,
   "metadata": {
    "ExecuteTime": {
     "end_time": "2020-04-25T20:19:56.055181Z",
     "start_time": "2020-04-25T20:19:56.021602Z"
    }
   },
   "outputs": [],
   "source": [
    "%time\n",
    "extracted_data_df.dropna(axis=0, inplace=True)\n",
    "item_raw_prices_list = extracted_data_df['item_price'].to_list()\n",
    "item_treated_prices_list = []\n",
    "for item_raw_price in item_raw_prices_list:\n",
    "    item_price = None\n",
    "    if '.' in item_raw_price:\n",
    "        thousands_digits, hundreds_digits = item_raw_price.split('.')\n",
    "        item_price = int(thousands_digits)*1000 + int(hundreds_digits)\n",
    "    else:\n",
    "        item_price = int(item_raw_price)\n",
    "    item_treated_prices_list.append(item_price)\n",
    "extracted_data_df['item_price'] = item_treated_prices_list\n",
    "extracted_data_df"
   ]
  },
  {
   "cell_type": "markdown",
   "metadata": {},
   "source": [
    "### 2.1 Storing Found Prices"
   ]
  },
  {
   "cell_type": "code",
   "execution_count": 18,
   "metadata": {
    "ExecuteTime": {
     "end_time": "2020-05-05T19:56:30.149862Z",
     "start_time": "2020-05-05T19:56:30.144353Z"
    }
   },
   "outputs": [],
   "source": [
    "extracted_filename = 'extracted_device_data'\n",
    "extracted_filename_with_path = RELATIVE_PATH_TO_DATA_FOLDER + extracted_filename + '.csv'"
   ]
  },
  {
   "cell_type": "code",
   "execution_count": 19,
   "metadata": {
    "ExecuteTime": {
     "end_time": "2020-05-05T19:56:32.839631Z",
     "start_time": "2020-05-05T19:56:32.822172Z"
    }
   },
   "outputs": [
    {
     "ename": "NameError",
     "evalue": "name 'extracted_data_df' is not defined",
     "output_type": "error",
     "traceback": [
      "\u001b[0;31m---------------------------------------------------------------------------\u001b[0m",
      "\u001b[0;31mNameError\u001b[0m                                 Traceback (most recent call last)",
      "\u001b[0;32m<ipython-input-19-04d177832b7b>\u001b[0m in \u001b[0;36m<module>\u001b[0;34m\u001b[0m\n\u001b[0;32m----> 1\u001b[0;31m \u001b[0mextracted_data_df\u001b[0m\u001b[0;34m.\u001b[0m\u001b[0mto_csv\u001b[0m\u001b[0;34m(\u001b[0m\u001b[0mextracted_filename_with_path\u001b[0m\u001b[0;34m,\u001b[0m \u001b[0mindex\u001b[0m\u001b[0;34m=\u001b[0m\u001b[0;32mFalse\u001b[0m\u001b[0;34m)\u001b[0m\u001b[0;34m\u001b[0m\u001b[0;34m\u001b[0m\u001b[0m\n\u001b[0m",
      "\u001b[0;31mNameError\u001b[0m: name 'extracted_data_df' is not defined"
     ]
    }
   ],
   "source": [
    "extracted_data_df.to_csv(extracted_filename_with_path, index=False)"
   ]
  },
  {
   "cell_type": "markdown",
   "metadata": {},
   "source": [
    "## 3. Analysing Prices"
   ]
  },
  {
   "cell_type": "code",
   "execution_count": 20,
   "metadata": {
    "ExecuteTime": {
     "end_time": "2020-05-05T19:56:37.079755Z",
     "start_time": "2020-05-05T19:56:37.054338Z"
    },
    "scrolled": true
   },
   "outputs": [
    {
     "name": "stdout",
     "output_type": "stream",
     "text": [
      "<class 'pandas.core.frame.DataFrame'>\n",
      "RangeIndex: 903 entries, 0 to 902\n",
      "Data columns (total 3 columns):\n",
      " #   Column               Non-Null Count  Dtype \n",
      "---  ------               --------------  ----- \n",
      " 0   item_original_name   903 non-null    object\n",
      " 1   item_extracted_name  903 non-null    object\n",
      " 2   item_price           903 non-null    int64 \n",
      "dtypes: int64(1), object(2)\n",
      "memory usage: 21.3+ KB\n"
     ]
    }
   ],
   "source": [
    "device_extracted_data_df = pd.read_csv(extracted_filename_with_path, header=0)\n",
    "device_extracted_data_df.info()"
   ]
  },
  {
   "cell_type": "markdown",
   "metadata": {},
   "source": [
    "### 3.1 Prices Distribution"
   ]
  },
  {
   "cell_type": "code",
   "execution_count": 23,
   "metadata": {
    "ExecuteTime": {
     "end_time": "2020-05-05T19:57:54.804183Z",
     "start_time": "2020-05-05T19:57:42.449118Z"
    },
    "scrolled": true
   },
   "outputs": [
    {
     "data": {
      "text/plain": [
       "<matplotlib.axes._subplots.AxesSubplot at 0x7f919fa72748>"
      ]
     },
     "execution_count": 23,
     "metadata": {},
     "output_type": "execute_result"
    },
    {
     "data": {
      "image/png": "[encoded data removed]",
      "text/plain": [
       "<Figure size 864x864 with 1 Axes>"
      ]
     },
     "metadata": {
      "needs_background": "light"
     },
     "output_type": "display_data"
    }
   ],
   "source": [
    "device_extracted_data_df.sort_values(by='item_price', inplace=True)\n",
    "device_extracted_data_df.plot.scatter(x=0, y='item_price', figsize=(12, 12))"
   ]
  },
  {
   "cell_type": "markdown",
   "metadata": {},
   "source": [
    "### 3.2 Prices Binning"
   ]
  },
  {
   "cell_type": "code",
   "execution_count": 11,
   "metadata": {
    "ExecuteTime": {
     "end_time": "2020-04-26T15:53:57.530693Z",
     "start_time": "2020-04-26T15:53:57.280330Z"
    },
    "scrolled": true
   },
   "outputs": [
    {
     "data": {
      "text/plain": [
       "<matplotlib.axes._subplots.AxesSubplot at 0x7f84e4e9c048>"
      ]
     },
     "execution_count": 11,
     "metadata": {},
     "output_type": "execute_result"
    },
    {
     "data": {
      "image/png": "[encoded data removed]",
      "text/plain": [
       "<Figure size 576x576 with 1 Axes>"
      ]
     },
     "metadata": {
      "needs_background": "light"
     },
     "output_type": "display_data"
    }
   ],
   "source": [
    "device_extracted_data_df.describe()\n",
    "device_extracted_data_df.plot.hist(by=['item_price'], bins=5, figsize=(8, 8))\n"
   ]
  },
  {
   "cell_type": "markdown",
   "metadata": {
    "ExecuteTime": {
     "end_time": "2020-05-05T19:48:12.360166Z",
     "start_time": "2020-05-05T19:48:12.225979Z"
    }
   },
   "source": [
    "## 4 Price  Ranges\n",
    "![Brazilian IBGE Salaries Ranges Research](./assets/ibge_brazilian_salary_ranges.jpg)"
   ]
  },
  {
   "cell_type": "code",
   "execution_count": 25,
   "metadata": {
    "ExecuteTime": {
     "end_time": "2020-05-05T20:02:46.581191Z",
     "start_time": "2020-05-05T20:02:33.540274Z"
    }
   },
   "outputs": [
    {
     "data": {
      "image/png": "[encoded data removed]",
      "text/plain": [
       "<Figure size 432x288 with 1 Axes>"
      ]
     },
     "metadata": {
      "needs_background": "light"
     },
     "output_type": "display_data"
    }
   ],
   "source": [
    "ibge_price_ranges_labels = ['very_low', 'low', 'medium', 'high', 'very_high']\n",
    "salaries_ibge_ranges = [(0, 1908), (1909, 2862), (2863, 5724), (5725, 3566)]\n",
    "ibge_price_ranges = [0]\n",
    "for i, salarie_range in enumerate(salaries_ibge_ranges):\n",
    "    threshold_price = (salarie_range[0] + salarie_range[1])//3\n",
    "    # As the values are so low, we have to increment them with the previous threshold\n",
    "    threshold_price += ibge_price_ranges[i-1]\n",
    "    ibge_price_ranges.append(threshold_price)\n",
    "ibge_price_ranges.append(float('inf'))\n",
    "\n",
    "device_extracted_data_df['ibge_price_range'] = pd.cut(device_extracted_data_df['item_price'], bins=ibge_price_ranges, labels=ibge_price_ranges_labels)\n",
    "groups = device_extracted_data_df.groupby('ibge_price_range', sort=False)\n",
    "# Plot\n",
    "fig, ax = plt.subplots()\n",
    "ax.margins(0.05) # Optional, just adds 5% padding to the autoscaling\n",
    "for name, group in groups:\n",
    "    ax.plot(group['item_original_name'], group['item_price'], marker='o', linestyle='', ms=12, label=name)\n",
    "ax.legend()\n",
    "\n",
    "plt.show()"
   ]
  },
  {
   "cell_type": "markdown",
   "metadata": {},
   "source": [
    "### 4.1 Comparing with old price ranges"
   ]
  },
  {
   "cell_type": "code",
   "execution_count": 26,
   "metadata": {
    "ExecuteTime": {
     "end_time": "2020-05-05T20:03:02.984439Z",
     "start_time": "2020-05-05T20:02:50.235115Z"
    }
   },
   "outputs": [
    {
     "data": {
      "image/png": "[encoded data removed]",
      "text/plain": [
       "<Figure size 432x288 with 1 Axes>"
      ]
     },
     "metadata": {
      "needs_background": "light"
     },
     "output_type": "display_data"
    }
   ],
   "source": [
    "device_extracted_data_df = device_extracted_data_df.merge(right=devices_df, left_on='item_original_name', right_on='model_name', how='inner').drop(columns='model_name')\n",
    "groups = device_extracted_data_df.groupby('old_price_range', sort=False)\n",
    "# Plot\n",
    "fig, ax = plt.subplots()\n",
    "ax.margins(0.05) # Optional, just adds 5% padding to the autoscaling\n",
    "for name, group in groups:\n",
    "    ax.plot(group['item_original_name'], group['item_price'], marker='o', linestyle='', ms=12, label=name)\n",
    "ax.legend()\n",
    "\n",
    "plt.show()"
   ]
  }
 ],
 "metadata": {
  "kernelspec": {
   "display_name": "Python 3",
   "language": "python",
   "name": "python3"
  },
  "language_info": {
   "codemirror_mode": {
    "name": "ipython",
    "version": 3
   },
   "file_extension": ".py",
   "mimetype": "text/x-python",
   "name": "python",
   "nbconvert_exporter": "python",
   "pygments_lexer": "ipython3",
   "version": "3.6.9"
  },
  "varInspector": {
   "cols": {
    "lenName": 16,
    "lenType": 16,
    "lenVar": 40
   },
   "kernels_config": {
    "python": {
     "delete_cmd_postfix": "",
     "delete_cmd_prefix": "del ",
     "library": "var_list.py",
     "varRefreshCmd": "print(var_dic_list())"
    },
    "r": {
     "delete_cmd_postfix": ") ",
     "delete_cmd_prefix": "rm(",
     "library": "var_list.r",
     "varRefreshCmd": "cat(var_dic_list()) "
    }
   },
   "types_to_exclude": [
    "module",
    "function",
    "builtin_function_or_method",
    "instance",
    "_Feature"
   ],
   "window_display": false
  }
 },
 "nbformat": 4,
 "nbformat_minor": 4
}
