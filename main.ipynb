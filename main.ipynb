{
 "cells": [
  {
   "cell_type": "markdown",
   "metadata": {},
   "source": [
    "# Analysing Smartphone Prices"
   ]
  },
  {
   "cell_type": "code",
   "execution_count": 1,
   "metadata": {
    "ExecuteTime": {
     "end_time": "2020-04-26T15:25:07.333377Z",
     "start_time": "2020-04-26T15:24:47.665860Z"
    },
    "scrolled": false
   },
   "outputs": [],
   "source": [
    "import requests\n",
    "from urllib import parse\n",
    "import re\n",
    "\n",
    "import pandas as pd\n",
    "from tqdm import tqdm\n",
    "import matplotlib.pyplot as plt"
   ]
  },
  {
   "cell_type": "markdown",
   "metadata": {},
   "source": [
    "## 1. Loading Devices Names"
   ]
  },
  {
   "cell_type": "code",
   "execution_count": 2,
   "metadata": {
    "ExecuteTime": {
     "end_time": "2020-04-26T15:25:07.735904Z",
     "start_time": "2020-04-26T15:25:07.366650Z"
    },
    "scrolled": true
   },
   "outputs": [
    {
     "name": "stdout",
     "output_type": "stream",
     "text": [
      "<class 'pandas.core.frame.DataFrame'>\n",
      "RangeIndex: 1130 entries, 0 to 1129\n",
      "Data columns (total 2 columns):\n",
      " #   Column           Non-Null Count  Dtype \n",
      "---  ------           --------------  ----- \n",
      " 0   model_name       1130 non-null   object\n",
      " 1   old_price_range  1130 non-null   object\n",
      "dtypes: object(2)\n",
      "memory usage: 17.8+ KB\n"
     ]
    }
   ],
   "source": [
    "RELATIVE_PATH_TO_DATA_FOLDER = './data/'\n",
    "filename = 'devices_using_ribonapp_data'\n",
    "filename_with_path = RELATIVE_PATH_TO_DATA_FOLDER + filename + '.csv'\n",
    "devices_df = pd.read_csv(filename_with_path, skiprows=0, names=['model_name', 'old_price_range'])\n",
    "devices_df.info()"
   ]
  },
  {
   "cell_type": "markdown",
   "metadata": {},
   "source": [
    "### 1.1 Cleaning Duplicates and Missing Values"
   ]
  },
  {
   "cell_type": "code",
   "execution_count": 35,
   "metadata": {
    "ExecuteTime": {
     "end_time": "2020-04-26T16:14:46.467586Z",
     "start_time": "2020-04-26T16:14:46.445541Z"
    }
   },
   "outputs": [
    {
     "name": "stdout",
     "output_type": "stream",
     "text": [
      "<class 'pandas.core.frame.DataFrame'>\n",
      "Int64Index: 1130 entries, 0 to 1129\n",
      "Data columns (total 2 columns):\n",
      " #   Column           Non-Null Count  Dtype \n",
      "---  ------           --------------  ----- \n",
      " 0   model_name       1130 non-null   object\n",
      " 1   old_price_range  1130 non-null   object\n",
      "dtypes: object(2)\n",
      "memory usage: 26.5+ KB\n"
     ]
    }
   ],
   "source": [
    "devices_df.drop_duplicates(['model_name'], inplace=True)\n",
    "devices_df.dropna(axis=0, inplace=True)\n",
    "devices_df.info()"
   ]
  },
  {
   "cell_type": "markdown",
   "metadata": {},
   "source": [
    "## 2. Searching for Prices"
   ]
  },
  {
   "cell_type": "code",
   "execution_count": null,
   "metadata": {
    "ExecuteTime": {
     "end_time": "2020-04-25T17:06:29.354023Z",
     "start_time": "2020-04-25T16:29:42.387519Z"
    }
   },
   "outputs": [],
   "source": [
    "url_base = \"https://celulares.mercadolivre.com.br/\"\n",
    "item_list = devices_df['model_name'].to_list()\n",
    "\n",
    "url_list = [url_base + parse.quote(item_name) for item_name in item_list]\n",
    "item_list_tuple = []\n",
    "\n",
    "for url, item_original_name in tdqm(zip(url_list, item_list)):\n",
    "    r = requests.get(url)\n",
    "    text_content = str(r.text)\n",
    "    item_name = re.search(r'class=\"main-title\">([\\s\\S]+?)<\\/span>', text_content)\n",
    "    item_price = re.search(r'price__fraction\">(\\S+)<\\/span>', text_content)\n",
    "    if item_name:\n",
    "        item_name = item_name.groups()[0]\n",
    "    if item_price:\n",
    "        item_price = item_price.groups()[0]\n",
    "    item_list_tuple.append((item_original_name, item_name, item_price))\n",
    "\n",
    "\n",
    "extracted_data_df = pd.DataFrame(data=item_list_tuple, columns=['item_original_name','item_extracted_name', 'item_price'])\n",
    "print(extracted_data_df.info())"
   ]
  },
  {
   "cell_type": "markdown",
   "metadata": {},
   "source": [
    "### 2.1 Treating Data"
   ]
  },
  {
   "cell_type": "code",
   "execution_count": null,
   "metadata": {
    "ExecuteTime": {
     "end_time": "2020-04-25T20:19:56.055181Z",
     "start_time": "2020-04-25T20:19:56.021602Z"
    }
   },
   "outputs": [],
   "source": [
    "%time\n",
    "extracted_data_df.dropna(axis=0, inplace=True)\n",
    "item_raw_prices_list = extracted_data_df['item_price'].to_list()\n",
    "item_treated_prices_list = []\n",
    "for item_raw_price in item_raw_prices_list:\n",
    "    item_price = None\n",
    "    if '.' in item_raw_price:\n",
    "        thousands_digits, hundreds_digits = item_raw_price.split('.')\n",
    "        item_price = int(thousands_digits)*1000 + int(hundreds_digits)\n",
    "    else:\n",
    "        item_price = int(item_raw_price)\n",
    "    item_treated_prices_list.append(item_price)\n",
    "extracted_data_df['item_price'] = item_treated_prices_list\n",
    "extracted_data_df"
   ]
  },
  {
   "cell_type": "markdown",
   "metadata": {},
   "source": [
    "### 2.1 Storing Found Prices"
   ]
  },
  {
   "cell_type": "code",
   "execution_count": 3,
   "metadata": {
    "ExecuteTime": {
     "end_time": "2020-04-26T15:25:07.764549Z",
     "start_time": "2020-04-26T15:25:07.759339Z"
    }
   },
   "outputs": [],
   "source": [
    "extracted_filename = 'extracted_device_data'\n",
    "extracted_filename_with_path = RELATIVE_PATH_TO_DATA_FOLDER + extracted_filename + '.csv'"
   ]
  },
  {
   "cell_type": "code",
   "execution_count": null,
   "metadata": {
    "ExecuteTime": {
     "end_time": "2020-04-25T18:11:27.088837Z",
     "start_time": "2020-04-25T18:11:27.065954Z"
    }
   },
   "outputs": [],
   "source": [
    "extracted_data_df.to_csv(extracted_filename_with_path, index=False)"
   ]
  },
  {
   "cell_type": "markdown",
   "metadata": {},
   "source": [
    "## 3. Analysing Prices"
   ]
  },
  {
   "cell_type": "code",
   "execution_count": 5,
   "metadata": {
    "ExecuteTime": {
     "end_time": "2020-04-26T15:25:08.205190Z",
     "start_time": "2020-04-26T15:25:08.054929Z"
    },
    "scrolled": false
   },
   "outputs": [
    {
     "name": "stdout",
     "output_type": "stream",
     "text": [
      "<class 'pandas.core.frame.DataFrame'>\n",
      "RangeIndex: 903 entries, 0 to 902\n",
      "Data columns (total 3 columns):\n",
      " #   Column               Non-Null Count  Dtype \n",
      "---  ------               --------------  ----- \n",
      " 0   item_original_name   903 non-null    object\n",
      " 1   item_extracted_name  903 non-null    object\n",
      " 2   item_price           903 non-null    int64 \n",
      "dtypes: int64(1), object(2)\n",
      "memory usage: 21.3+ KB\n"
     ]
    }
   ],
   "source": [
    "device_extracted_data_df = pd.read_csv(extracted_filename_with_path, header=0)\n",
    "device_extracted_data_df.info()"
   ]
  },
  {
   "cell_type": "markdown",
   "metadata": {},
   "source": [
    "### 3.1 Prices Distribution"
   ]
  },
  {
   "cell_type": "code",
   "execution_count": 6,
   "metadata": {
    "ExecuteTime": {
     "end_time": "2020-04-26T15:25:32.225051Z",
     "start_time": "2020-04-26T15:25:16.277692Z"
    },
    "scrolled": true
   },
   "outputs": [
    {
     "data": {
      "text/plain": [
       "<matplotlib.axes._subplots.AxesSubplot at 0x7f84ea49d2b0>"
      ]
     },
     "execution_count": 6,
     "metadata": {},
     "output_type": "execute_result"
    },
    {
     "data": {
      "image/png": "[encoded data removed]",
      "text/plain": [
       "<Figure size 864x864 with 1 Axes>"
      ]
     },
     "metadata": {
      "needs_background": "light"
     },
     "output_type": "display_data"
    }
   ],
   "source": [
    "device_extracted_data_df.sort_values(by='item_price', inplace=True)\n",
    "device_extracted_data_df.plot.scatter(x=0, y='item_price', figsize=(12, 12))"
   ]
  },
  {
   "cell_type": "markdown",
   "metadata": {},
   "source": [
    "### 3.2 Prices Binning"
   ]
  },
  {
   "cell_type": "code",
   "execution_count": 11,
   "metadata": {
    "ExecuteTime": {
     "end_time": "2020-04-26T15:53:57.530693Z",
     "start_time": "2020-04-26T15:53:57.280330Z"
    },
    "scrolled": false
   },
   "outputs": [
    {
     "data": {
      "text/plain": [
       "<matplotlib.axes._subplots.AxesSubplot at 0x7f84e4e9c048>"
      ]
     },
     "execution_count": 11,
     "metadata": {},
     "output_type": "execute_result"
    },
    {
     "data": {
      "image/png": "[encoded data removed]",
      "text/plain": [
       "<Figure size 576x576 with 1 Axes>"
      ]
     },
     "metadata": {
      "needs_background": "light"
     },
     "output_type": "display_data"
    }
   ],
   "source": [
    "device_extracted_data_df.describe()\n",
    "device_extracted_data_df.plot.hist(by=['item_price'], bins=5, figsize=(8, 8))\n"
   ]
  },
  {
   "cell_type": "markdown",
   "metadata": {},
   "source": [
    "#### Using Quantiles"
   ]
  },
  {
   "cell_type": "code",
   "execution_count": 48,
   "metadata": {
    "ExecuteTime": {
     "end_time": "2020-04-26T16:27:27.807201Z",
     "start_time": "2020-04-26T16:27:15.457091Z"
    }
   },
   "outputs": [
    {
     "data": {
      "image/png": "[encoded data removed]",
      "text/plain": [
       "<Figure size 432x288 with 1 Axes>"
      ]
     },
     "metadata": {
      "needs_background": "light"
     },
     "output_type": "display_data"
    }
   ],
   "source": [
    "price_range_labels = ['very_low', 'low', 'medium', 'high', 'very_high']\n",
    "device_extracted_data_df['price_range_q'] = pd.qcut(device_extracted_data_df['item_price'], q=5, labels=price_range_labels)\n",
    "groups = device_extracted_data_df.groupby('price_range_q')\n",
    "# Plot\n",
    "fig, ax = plt.subplots()\n",
    "ax.margins(0.05) # Optional, just adds 5% padding to the autoscaling\n",
    "for name, group in groups:\n",
    "    ax.plot(group['item_original_name'], group['item_price'], marker='o', linestyle='', ms=12, label=name)\n",
    "ax.legend()\n",
    "\n",
    "plt.show()"
   ]
  },
  {
   "cell_type": "markdown",
   "metadata": {},
   "source": [
    "#### Using Binning"
   ]
  },
  {
   "cell_type": "code",
   "execution_count": 49,
   "metadata": {
    "ExecuteTime": {
     "end_time": "2020-04-26T16:27:40.031436Z",
     "start_time": "2020-04-26T16:27:27.853751Z"
    },
    "scrolled": false
   },
   "outputs": [
    {
     "data": {
      "image/png": "[encoded data removed]",
      "text/plain": [
       "<Figure size 432x288 with 1 Axes>"
      ]
     },
     "metadata": {
      "needs_background": "light"
     },
     "output_type": "display_data"
    }
   ],
   "source": [
    "price_range_labels = ['very_low', 'low', 'medium', 'high', 'very_high']\n",
    "device_extracted_data_df['price_range_bin'] = pd.cut(device_extracted_data_df['item_price'], bins=5, labels=price_range_labels)\n",
    "groups = device_extracted_data_df.groupby('price_range_bin')\n",
    "# Plot\n",
    "fig, ax = plt.subplots()\n",
    "ax.margins(0.05) # Optional, just adds 5% padding to the autoscaling\n",
    "for name, group in groups:\n",
    "    ax.plot(group['item_original_name'], group['item_price'], marker='o', linestyle='', ms=12, label=name)\n",
    "ax.legend()\n",
    "\n",
    "plt.show()"
   ]
  },
  {
   "cell_type": "markdown",
   "metadata": {},
   "source": [
    "#### Comparing with old price ranges"
   ]
  },
  {
   "cell_type": "code",
   "execution_count": 36,
   "metadata": {
    "ExecuteTime": {
     "end_time": "2020-04-26T16:14:56.594264Z",
     "start_time": "2020-04-26T16:14:56.464487Z"
    }
   },
   "outputs": [
    {
     "data": {
      "text/html": [
       "<div>\n",
       "<style scoped>\n",
       "    .dataframe tbody tr th:only-of-type {\n",
       "        vertical-align: middle;\n",
       "    }\n",
       "\n",
       "    .dataframe tbody tr th {\n",
       "        vertical-align: top;\n",
       "    }\n",
       "\n",
       "    .dataframe thead th {\n",
       "        text-align: right;\n",
       "    }\n",
       "</style>\n",
       "<table border=\"1\" class=\"dataframe\">\n",
       "  <thead>\n",
       "    <tr style=\"text-align: right;\">\n",
       "      <th></th>\n",
       "      <th>item_original_name</th>\n",
       "      <th>item_extracted_name</th>\n",
       "      <th>item_price</th>\n",
       "      <th>price_range_q</th>\n",
       "      <th>salaries_price_range</th>\n",
       "      <th>old_price_range</th>\n",
       "    </tr>\n",
       "  </thead>\n",
       "  <tbody>\n",
       "    <tr>\n",
       "      <th>0</th>\n",
       "      <td>Breeze 7Y2241</td>\n",
       "      <td>Conector Micro Usb Tablet Aoc Breeze Aoc 7 7y...</td>\n",
       "      <td>6</td>\n",
       "      <td>low</td>\n",
       "      <td>very_low</td>\n",
       "      <td>Low</td>\n",
       "    </tr>\n",
       "    <tr>\n",
       "      <th>1</th>\n",
       "      <td>Galaxy Trend Lite GT-S7392L DUOS</td>\n",
       "      <td>Celular Samsung Galaxy Trend Lite Gt-s7392l P...</td>\n",
       "      <td>15</td>\n",
       "      <td>low</td>\n",
       "      <td>very_low</td>\n",
       "      <td>Mid_Range</td>\n",
       "    </tr>\n",
       "    <tr>\n",
       "      <th>2</th>\n",
       "      <td>E470f</td>\n",
       "      <td>Smartphone Lg E470f Branco Apenas Partes Pçs....</td>\n",
       "      <td>18</td>\n",
       "      <td>low</td>\n",
       "      <td>very_low</td>\n",
       "      <td>Low</td>\n",
       "    </tr>\n",
       "    <tr>\n",
       "      <th>3</th>\n",
       "      <td>Motion</td>\n",
       "      <td>Smartphone Cce Motion Plus Sm70 - Defeito</td>\n",
       "      <td>19</td>\n",
       "      <td>low</td>\n",
       "      <td>very_low</td>\n",
       "      <td>Low</td>\n",
       "    </tr>\n",
       "    <tr>\n",
       "      <th>4</th>\n",
       "      <td>Galaxy Pocket 2</td>\n",
       "      <td>Smartphone Samsung Galaxy Pocket 2 Duos Sm-g1...</td>\n",
       "      <td>19</td>\n",
       "      <td>low</td>\n",
       "      <td>very_low</td>\n",
       "      <td>Mid_Range</td>\n",
       "    </tr>\n",
       "    <tr>\n",
       "      <th>...</th>\n",
       "      <td>...</td>\n",
       "      <td>...</td>\n",
       "      <td>...</td>\n",
       "      <td>...</td>\n",
       "      <td>...</td>\n",
       "      <td>...</td>\n",
       "    </tr>\n",
       "    <tr>\n",
       "      <th>898</th>\n",
       "      <td>One Pro</td>\n",
       "      <td>OnePlus 7T Pro McLaren Edition Dual SIM 256 G...</td>\n",
       "      <td>6049</td>\n",
       "      <td>outlier</td>\n",
       "      <td>very_high</td>\n",
       "      <td>Low</td>\n",
       "    </tr>\n",
       "    <tr>\n",
       "      <th>899</th>\n",
       "      <td>iPhone 11 Pro</td>\n",
       "      <td>Apple iPhone 11 Pro Max Dual SIM 64 GB Cinza-...</td>\n",
       "      <td>7000</td>\n",
       "      <td>outlier</td>\n",
       "      <td>very_high</td>\n",
       "      <td>High</td>\n",
       "    </tr>\n",
       "    <tr>\n",
       "      <th>900</th>\n",
       "      <td>iPhone 11 Pro Max</td>\n",
       "      <td>Apple iPhone 11 Pro Max Dual SIM 64 GB Cinza-...</td>\n",
       "      <td>7000</td>\n",
       "      <td>outlier</td>\n",
       "      <td>very_high</td>\n",
       "      <td>High</td>\n",
       "    </tr>\n",
       "    <tr>\n",
       "      <th>901</th>\n",
       "      <td>Max 4 Pro</td>\n",
       "      <td>Apple iPhone 11 Pro Max Dual SIM 64 GB Cinza-...</td>\n",
       "      <td>7000</td>\n",
       "      <td>outlier</td>\n",
       "      <td>very_high</td>\n",
       "      <td>Low</td>\n",
       "    </tr>\n",
       "    <tr>\n",
       "      <th>902</th>\n",
       "      <td>Honor V9</td>\n",
       "      <td>Huawei Honor V9 Black 6/128gb</td>\n",
       "      <td>9830</td>\n",
       "      <td>outlier</td>\n",
       "      <td>very_high</td>\n",
       "      <td>Mid_Range</td>\n",
       "    </tr>\n",
       "  </tbody>\n",
       "</table>\n",
       "<p>903 rows × 6 columns</p>\n",
       "</div>"
      ],
      "text/plain": [
       "                   item_original_name  \\\n",
       "0                       Breeze 7Y2241   \n",
       "1    Galaxy Trend Lite GT-S7392L DUOS   \n",
       "2                               E470f   \n",
       "3                              Motion   \n",
       "4                     Galaxy Pocket 2   \n",
       "..                                ...   \n",
       "898                           One Pro   \n",
       "899                     iPhone 11 Pro   \n",
       "900                 iPhone 11 Pro Max   \n",
       "901                         Max 4 Pro   \n",
       "902                          Honor V9   \n",
       "\n",
       "                                   item_extracted_name  item_price  \\\n",
       "0     Conector Micro Usb Tablet Aoc Breeze Aoc 7 7y...           6   \n",
       "1     Celular Samsung Galaxy Trend Lite Gt-s7392l P...          15   \n",
       "2     Smartphone Lg E470f Branco Apenas Partes Pçs....          18   \n",
       "3           Smartphone Cce Motion Plus Sm70 - Defeito           19   \n",
       "4     Smartphone Samsung Galaxy Pocket 2 Duos Sm-g1...          19   \n",
       "..                                                 ...         ...   \n",
       "898   OnePlus 7T Pro McLaren Edition Dual SIM 256 G...        6049   \n",
       "899   Apple iPhone 11 Pro Max Dual SIM 64 GB Cinza-...        7000   \n",
       "900   Apple iPhone 11 Pro Max Dual SIM 64 GB Cinza-...        7000   \n",
       "901   Apple iPhone 11 Pro Max Dual SIM 64 GB Cinza-...        7000   \n",
       "902                     Huawei Honor V9 Black 6/128gb         9830   \n",
       "\n",
       "    price_range_q salaries_price_range old_price_range  \n",
       "0             low             very_low             Low  \n",
       "1             low             very_low       Mid_Range  \n",
       "2             low             very_low             Low  \n",
       "3             low             very_low             Low  \n",
       "4             low             very_low       Mid_Range  \n",
       "..            ...                  ...             ...  \n",
       "898       outlier            very_high             Low  \n",
       "899       outlier            very_high            High  \n",
       "900       outlier            very_high            High  \n",
       "901       outlier            very_high             Low  \n",
       "902       outlier            very_high       Mid_Range  \n",
       "\n",
       "[903 rows x 6 columns]"
      ]
     },
     "execution_count": 36,
     "metadata": {},
     "output_type": "execute_result"
    }
   ],
   "source": [
    "device_extracted_data_df = device_extracted_data_df.merge(right=devices_df, left_on='item_original_name', right_on='model_name', how='inner').drop(columns='model_name')\n",
    "device_extracted_data_df"
   ]
  },
  {
   "cell_type": "code",
   "execution_count": 37,
   "metadata": {
    "ExecuteTime": {
     "end_time": "2020-04-26T16:15:10.053647Z",
     "start_time": "2020-04-26T16:14:58.106828Z"
    }
   },
   "outputs": [
    {
     "data": {
      "image/png": "[encoded data removed]",
      "text/plain": [
       "<Figure size 432x288 with 1 Axes>"
      ]
     },
     "metadata": {
      "needs_background": "light"
     },
     "output_type": "display_data"
    }
   ],
   "source": [
    "groups = device_extracted_data_df.groupby('old_price_range', sort=False)\n",
    "# Plot\n",
    "fig, ax = plt.subplots()\n",
    "ax.margins(0.05) # Optional, just adds 5% padding to the autoscaling\n",
    "for name, group in groups:\n",
    "    ax.plot(group['item_original_name'], group['item_price'], marker='o', linestyle='', ms=12, label=name)\n",
    "ax.legend()\n",
    "\n",
    "plt.show()"
   ]
  },
  {
   "cell_type": "markdown",
   "metadata": {},
   "source": [
    "### Using Brazilian Salaries Range for Binning\n",
    "![Brazilian Salaries Ranges Research](./assets/brazilian_salaries_range.png)\n"
   ]
  },
  {
   "cell_type": "markdown",
   "metadata": {},
   "source": [
    "#### Per capta approach"
   ]
  },
  {
   "cell_type": "code",
   "execution_count": 44,
   "metadata": {
    "ExecuteTime": {
     "end_time": "2020-04-26T16:25:10.422153Z",
     "start_time": "2020-04-26T16:25:10.400657Z"
    }
   },
   "outputs": [
    {
     "data": {
      "text/plain": [
       "[0, 89, 273, 777, 2560, inf]"
      ]
     },
     "execution_count": 44,
     "metadata": {},
     "output_type": "execute_result"
    }
   ],
   "source": [
    "per_capta_price_ranges_labels = ['very_low', 'low', 'medium', 'high', 'very_high']\n",
    "salaries_per_capita_ranges = [(0, 178), (179, 368), (369, 1008), (1009, 3566)]\n",
    "per_capta_price_ranges = [0]\n",
    "for i, salarie_range in enumerate(salaries_per_capita_ranges):\n",
    "    threshold_price = (salarie_range[0] + salarie_range[1])//2\n",
    "    # As the values are so low, we have to increment them with the previous threshold\n",
    "    threshold_price += per_capta_price_ranges[i-1]\n",
    "    per_capta_price_ranges.append(threshold_price)\n",
    "per_capta_price_ranges.append(float('inf'))\n",
    "per_capta_price_ranges"
   ]
  },
  {
   "cell_type": "code",
   "execution_count": 47,
   "metadata": {
    "ExecuteTime": {
     "end_time": "2020-04-26T16:26:55.912676Z",
     "start_time": "2020-04-26T16:26:43.518224Z"
    }
   },
   "outputs": [
    {
     "data": {
      "image/png": "[encoded data removed]",
      "text/plain": [
       "<Figure size 432x288 with 1 Axes>"
      ]
     },
     "metadata": {
      "needs_background": "light"
     },
     "output_type": "display_data"
    }
   ],
   "source": [
    "device_extracted_data_df['salaries_per_capta_price_range'] = pd.cut(device_extracted_data_df['item_price'], bins=per_capta_price_ranges, labels=per_capta_price_ranges_labels)\n",
    "groups = device_extracted_data_df.groupby('salaries_per_capta_price_range', sort=False)\n",
    "# Plot\n",
    "fig, ax = plt.subplots()\n",
    "ax.margins(0.05) # Optional, just adds 5% padding to the autoscaling\n",
    "for name, group in groups:\n",
    "    ax.plot(group['item_original_name'], group['item_price'], marker='o', linestyle='', ms=12, label=name)\n",
    "ax.legend()\n",
    "\n",
    "plt.show()"
   ]
  },
  {
   "cell_type": "markdown",
   "metadata": {},
   "source": [
    "#### By family salaries approach"
   ]
  },
  {
   "cell_type": "code",
   "execution_count": null,
   "metadata": {
    "ExecuteTime": {
     "end_time": "2020-04-26T16:32:13.015589Z",
     "start_time": "2020-04-26T16:32:01.043177Z"
    }
   },
   "outputs": [],
   "source": [
    "family_salary_price_ranges_labels = ['very_low', 'low', 'medium', 'high', 'very_high']\n",
    "salaries_per_capita_ranges = [(0, 1100), (1101, 1819), (1820, 7278), (7279, 11000)]\n",
    "family_salary_price_ranges = [0]\n",
    "for i, salarie_range in enumerate(salaries_per_capita_ranges):\n",
    "    threshold_price = (salarie_range[0] + salarie_range[1])//2\n",
    "    family_salary_price_ranges.append(threshold_price)\n",
    "family_salary_price_ranges.append(float('inf'))\n",
    "family_salary_price_ranges"
   ]
  },
  {
   "cell_type": "code",
   "execution_count": 53,
   "metadata": {
    "ExecuteTime": {
     "end_time": "2020-04-26T16:32:13.015589Z",
     "start_time": "2020-04-26T16:32:01.043177Z"
    }
   },
   "outputs": [
    {
     "data": {
      "image/png": "[encoded data removed]",
      "text/plain": [
       "<Figure size 432x288 with 1 Axes>"
      ]
     },
     "metadata": {
      "needs_background": "light"
     },
     "output_type": "display_data"
    }
   ],
   "source": [
    "device_extracted_data_df['salaries_by_family_price_range'] = pd.cut(device_extracted_data_df['item_price'], bins=family_salary_price_ranges, labels=family_salary_price_ranges_labels)\n",
    "groups = device_extracted_data_df.groupby('salaries_by_family_price_range', sort=False)\n",
    "# Plot\n",
    "fig, ax = plt.subplots()\n",
    "ax.margins(0.05) # Optional, just adds 5% padding to the autoscaling\n",
    "for name, group in groups:\n",
    "    ax.plot(group['item_original_name'], group['item_price'], marker='o', linestyle='', ms=12, label=name)\n",
    "ax.legend()\n",
    "\n",
    "plt.show()"
   ]
  },
  {
   "cell_type": "code",
   "execution_count": null,
   "metadata": {},
   "outputs": [],
   "source": []
  }
 ],
 "metadata": {
  "kernelspec": {
   "display_name": "Python 3",
   "language": "python",
   "name": "python3"
  },
  "language_info": {
   "codemirror_mode": {
    "name": "ipython",
    "version": 3
   },
   "file_extension": ".py",
   "mimetype": "text/x-python",
   "name": "python",
   "nbconvert_exporter": "python",
   "pygments_lexer": "ipython3",
   "version": "3.6.9"
  },
  "varInspector": {
   "cols": {
    "lenName": 16,
    "lenType": 16,
    "lenVar": 40
   },
   "kernels_config": {
    "python": {
     "delete_cmd_postfix": "",
     "delete_cmd_prefix": "del ",
     "library": "var_list.py",
     "varRefreshCmd": "print(var_dic_list())"
    },
    "r": {
     "delete_cmd_postfix": ") ",
     "delete_cmd_prefix": "rm(",
     "library": "var_list.r",
     "varRefreshCmd": "cat(var_dic_list()) "
    }
   },
   "types_to_exclude": [
    "module",
    "function",
    "builtin_function_or_method",
    "instance",
    "_Feature"
   ],
   "window_display": false
  }
 },
 "nbformat": 4,
 "nbformat_minor": 4
}
