{
 "cells": [
  {
   "cell_type": "markdown",
   "metadata": {},
   "source": [
    "# Analysing Smartphone Prices"
   ]
  },
  {
   "cell_type": "code",
   "execution_count": 1,
   "metadata": {
    "ExecuteTime": {
     "end_time": "2020-04-25T16:04:33.491695Z",
     "start_time": "2020-04-25T16:04:27.994953Z"
    }
   },
   "outputs": [
    {
     "name": "stdout",
     "output_type": "stream",
     "text": [
      "https://celulares.mercadolivre.com.br/Galaxy%20TabS%2010.5\n",
      "\n",
      "\n",
      "https://celulares.mercadolivre.com.br/Galaxy%20TabS%208.4\n",
      "(' Sansung Tab Pro T320 8.4 Res 2500x1600p 32gb Sd Classe 10 ',)\n",
      "('800',)\n",
      "\n",
      "\n",
      "https://celulares.mercadolivre.com.br/Galaxy%20TabS3\n",
      "(' Samsung Galaxy Tab3 ',)\n",
      "('305',)\n",
      "\n",
      "\n",
      "<class 'pandas.core.frame.DataFrame'>\n",
      "RangeIndex: 3 entries, 0 to 2\n",
      "Data columns (total 3 columns):\n",
      " #   Column               Non-Null Count  Dtype \n",
      "---  ------               --------------  ----- \n",
      " 0   item_original_name   3 non-null      object\n",
      " 1   item_extracted_name  2 non-null      object\n",
      " 2   item_price           2 non-null      object\n",
      "dtypes: object(3)\n",
      "memory usage: 200.0+ bytes\n",
      "None\n"
     ]
    }
   ],
   "source": [
    "import requests\n",
    "from urllib import parse\n",
    "import re\n",
    "\n",
    "import pandas as pd\n",
    "\n",
    "\n",
    "url_base = \"https://celulares.mercadolivre.com.br/\"\n",
    "\n",
    "item_list = [\n",
    "    \"Galaxy TabS 10.5\",\n",
    "    \"Galaxy TabS 8.4\",\n",
    "    \"Galaxy TabS3\",\n",
    "    \"Galaxy Trend Lite  GT-S7390L\",\n",
    "    \"Galaxy Trend Lite GT-S7392L DUOS\",\n",
    "    \"Galaxy Trend Plus GT-S7580\",\n",
    "    \"Galaxy Win 2 Duos TV\",\n",
    "    \"Galaxy WinDuos GT-I8552B\",\n",
    "    \"Galaxy Y Duos TV GT-S6313T\",\n",
    "    \"Galaxy Young 2\",\n",
    "    \"Galaxy Young Plus (GT-S6293T)\",\n",
    "    \"Galaxy Young2\",\n",
    "    \"Galaxy Young2 Pro\",\n",
    "    \"Gigaset GS370_Plus\"][:3]\n",
    "\n",
    "url_list = [url_base + parse.quote(item_name) for item_name in item_list]\n",
    "item_list_tuple = []\n",
    "\n",
    "for url, item_original_name in zip(url_list, item_list):\n",
    "    print(url)\n",
    "    r = requests.get(url)\n",
    "    text_content = str(r.text)\n",
    "    item_name = re.search(r'class=\"main-title\">([\\s\\S]+?)<\\/span>', text_content)\n",
    "    item_price = re.search(r'price__fraction\">(\\S+)<\\/span>', text_content)\n",
    "    if item_name:\n",
    "        print(item_name.groups())\n",
    "        item_name = item_name.groups()[0]\n",
    "    if item_price:\n",
    "        print(item_price.groups())\n",
    "        item_price = item_price.groups()[0]\n",
    "    print('\\n')\n",
    "    item_list_tuple.append((item_original_name, item_name, item_price))\n",
    "\n",
    "\n",
    "extracted_data = pd.DataFrame(data=item_list_tuple, columns=['item_original_name','item_extracted_name', 'item_price'])\n",
    "print(extracted_data.info())\n",
    "extracted_data.to_csv('extracted_cellphone_data.csv', index=False)\n"
   ]
  },
  {
   "cell_type": "code",
   "execution_count": null,
   "metadata": {},
   "outputs": [],
   "source": []
  }
 ],
 "metadata": {
  "kernelspec": {
   "display_name": "Python 3",
   "language": "python",
   "name": "python3"
  },
  "language_info": {
   "codemirror_mode": {
    "name": "ipython",
    "version": 3
   },
   "file_extension": ".py",
   "mimetype": "text/x-python",
   "name": "python",
   "nbconvert_exporter": "python",
   "pygments_lexer": "ipython3",
   "version": "3.6.9"
  },
  "varInspector": {
   "cols": {
    "lenName": 16,
    "lenType": 16,
    "lenVar": 40
   },
   "kernels_config": {
    "python": {
     "delete_cmd_postfix": "",
     "delete_cmd_prefix": "del ",
     "library": "var_list.py",
     "varRefreshCmd": "print(var_dic_list())"
    },
    "r": {
     "delete_cmd_postfix": ") ",
     "delete_cmd_prefix": "rm(",
     "library": "var_list.r",
     "varRefreshCmd": "cat(var_dic_list()) "
    }
   },
   "types_to_exclude": [
    "module",
    "function",
    "builtin_function_or_method",
    "instance",
    "_Feature"
   ],
   "window_display": false
  }
 },
 "nbformat": 4,
 "nbformat_minor": 4
}
