{
 "cells": [
  {
   "cell_type": "markdown",
   "metadata": {},
   "source": [
    "# Analysing Smartphone Prices"
   ]
  },
  {
   "cell_type": "code",
   "execution_count": null,
   "metadata": {
    "ExecuteTime": {
     "end_time": "2020-04-25T20:18:43.705477Z",
     "start_time": "2020-04-25T20:18:43.114611Z"
    },
    "scrolled": false
   },
   "outputs": [],
   "source": [
    "import requests\n",
    "from urllib import parse\n",
    "import re\n",
    "\n",
    "import pandas as pd\n",
    "from tqdm import tqdm\n",
    "import matplotlib.pyplot as plt"
   ]
  },
  {
   "cell_type": "markdown",
   "metadata": {},
   "source": [
    "## 1. Loading Devices Names"
   ]
  },
  {
   "cell_type": "code",
   "execution_count": 2,
   "metadata": {
    "ExecuteTime": {
     "end_time": "2020-04-25T20:18:46.668497Z",
     "start_time": "2020-04-25T20:18:46.640153Z"
    },
    "scrolled": true
   },
   "outputs": [
    {
     "name": "stdout",
     "output_type": "stream",
     "text": [
      "<class 'pandas.core.frame.DataFrame'>\n",
      "RangeIndex: 1130 entries, 0 to 1129\n",
      "Data columns (total 2 columns):\n",
      " #   Column           Non-Null Count  Dtype \n",
      "---  ------           --------------  ----- \n",
      " 0   model_name       1130 non-null   object\n",
      " 1   old_price_range  1130 non-null   object\n",
      "dtypes: object(2)\n",
      "memory usage: 17.8+ KB\n"
     ]
    }
   ],
   "source": [
    "RELATIVE_PATH_TO_DATA_FOLDER = './data/'\n",
    "filename = 'devices_using_ribonapp_data'\n",
    "filename_with_path = RELATIVE_PATH_TO_DATA_FOLDER + filename + '.csv'\n",
    "devices_df = pd.read_csv(filename_with_path, skiprows=0, names=['model_name', 'old_price_range'])\n",
    "devices_df.info()"
   ]
  },
  {
   "cell_type": "markdown",
   "metadata": {},
   "source": [
    "### 1.1 Cleaning Duplicates and Missing Values"
   ]
  },
  {
   "cell_type": "code",
   "execution_count": 3,
   "metadata": {
    "ExecuteTime": {
     "end_time": "2020-04-25T20:18:49.069043Z",
     "start_time": "2020-04-25T20:18:49.041995Z"
    }
   },
   "outputs": [
    {
     "name": "stdout",
     "output_type": "stream",
     "text": [
      "<class 'pandas.core.frame.DataFrame'>\n",
      "Int64Index: 1130 entries, 0 to 1129\n",
      "Data columns (total 2 columns):\n",
      " #   Column           Non-Null Count  Dtype \n",
      "---  ------           --------------  ----- \n",
      " 0   model_name       1130 non-null   object\n",
      " 1   old_price_range  1130 non-null   object\n",
      "dtypes: object(2)\n",
      "memory usage: 26.5+ KB\n"
     ]
    }
   ],
   "source": [
    "devices_df.drop_duplicates(['model_name'], inplace=True)\n",
    "devices_df.dropna(axis=0, inplace=True)\n",
    "devices_df.info()"
   ]
  },
  {
   "cell_type": "markdown",
   "metadata": {},
   "source": [
    "## 2. Searching for Prices"
   ]
  },
  {
   "cell_type": "code",
   "execution_count": null,
   "metadata": {
    "ExecuteTime": {
     "end_time": "2020-04-25T17:06:29.354023Z",
     "start_time": "2020-04-25T16:29:42.387519Z"
    }
   },
   "outputs": [],
   "source": [
    "url_base = \"https://celulares.mercadolivre.com.br/\"\n",
    "item_list = devices_df['model_name'].to_list()\n",
    "\n",
    "url_list = [url_base + parse.quote(item_name) for item_name in item_list]\n",
    "item_list_tuple = []\n",
    "\n",
    "for url, item_original_name in tdqm(zip(url_list, item_list)):\n",
    "    r = requests.get(url)\n",
    "    text_content = str(r.text)\n",
    "    item_name = re.search(r'class=\"main-title\">([\\s\\S]+?)<\\/span>', text_content)\n",
    "    item_price = re.search(r'price__fraction\">(\\S+)<\\/span>', text_content)\n",
    "    if item_name:\n",
    "        item_name = item_name.groups()[0]\n",
    "    if item_price:\n",
    "        item_price = item_price.groups()[0]\n",
    "    item_list_tuple.append((item_original_name, item_name, item_price))\n",
    "\n",
    "\n",
    "extracted_data_df = pd.DataFrame(data=item_list_tuple, columns=['item_original_name','item_extracted_name', 'item_price'])\n",
    "print(extracted_data_df.info())"
   ]
  },
  {
   "cell_type": "markdown",
   "metadata": {},
   "source": [
    "### 2.1 Treating Data"
   ]
  },
  {
   "cell_type": "code",
   "execution_count": null,
   "metadata": {
    "ExecuteTime": {
     "end_time": "2020-04-25T20:19:56.055181Z",
     "start_time": "2020-04-25T20:19:56.021602Z"
    }
   },
   "outputs": [],
   "source": [
    "%time\n",
    "extracted_data_df.dropna(axis=0, inplace=True)\n",
    "item_raw_prices_list = extracted_data_df['item_price'].to_list()\n",
    "item_treated_prices_list = []\n",
    "for item_raw_price in item_raw_prices_list:\n",
    "    item_price = None\n",
    "    if '.' in item_raw_price:\n",
    "        thousands_digits, hundreds_digits = item_raw_price.split('.')\n",
    "        item_price = int(thousands_digits)*1000 + int(hundreds_digits)\n",
    "    else:\n",
    "        item_price = int(item_raw_price)\n",
    "    item_treated_prices_list.append(item_price)\n",
    "extracted_data_df['item_price'] = item_treated_prices_list\n",
    "extracted_data_df"
   ]
  },
  {
   "cell_type": "markdown",
   "metadata": {},
   "source": [
    "### 2.1 Storing Found Prices"
   ]
  },
  {
   "cell_type": "code",
   "execution_count": 5,
   "metadata": {
    "ExecuteTime": {
     "end_time": "2020-04-25T20:20:09.409704Z",
     "start_time": "2020-04-25T20:20:09.401362Z"
    }
   },
   "outputs": [],
   "source": [
    "extracted_filename = 'extracted_device_data'\n",
    "extracted_filename_with_path = RELATIVE_PATH_TO_DATA_FOLDER + extracted_filename + '.csv'"
   ]
  },
  {
   "cell_type": "code",
   "execution_count": null,
   "metadata": {
    "ExecuteTime": {
     "end_time": "2020-04-25T18:11:27.088837Z",
     "start_time": "2020-04-25T18:11:27.065954Z"
    }
   },
   "outputs": [],
   "source": [
    "extracted_data_df.to_csv(extracted_filename_with_path, index=False)"
   ]
  },
  {
   "cell_type": "markdown",
   "metadata": {},
   "source": [
    "## 3. Analysing Prices"
   ]
  },
  {
   "cell_type": "code",
   "execution_count": 6,
   "metadata": {
    "ExecuteTime": {
     "end_time": "2020-04-25T20:20:11.406734Z",
     "start_time": "2020-04-25T20:20:11.391504Z"
    },
    "scrolled": false
   },
   "outputs": [
    {
     "name": "stdout",
     "output_type": "stream",
     "text": [
      "<class 'pandas.core.frame.DataFrame'>\n",
      "RangeIndex: 903 entries, 0 to 902\n",
      "Data columns (total 3 columns):\n",
      " #   Column               Non-Null Count  Dtype \n",
      "---  ------               --------------  ----- \n",
      " 0   item_original_name   903 non-null    object\n",
      " 1   item_extracted_name  903 non-null    object\n",
      " 2   item_price           903 non-null    int64 \n",
      "dtypes: int64(1), object(2)\n",
      "memory usage: 21.3+ KB\n"
     ]
    }
   ],
   "source": [
    "device_extracted_data_df = pd.read_csv(extracted_filename_with_path, header=0)\n",
    "device_extracted_data_df.info()"
   ]
  },
  {
   "cell_type": "markdown",
   "metadata": {},
   "source": [
    "### 3.1 Prices Distribution"
   ]
  },
  {
   "cell_type": "code",
   "execution_count": 7,
   "metadata": {
    "ExecuteTime": {
     "end_time": "2020-04-25T20:20:36.248141Z",
     "start_time": "2020-04-25T20:20:24.131875Z"
    },
    "scrolled": true
   },
   "outputs": [
    {
     "data": {
      "text/plain": [
       "<matplotlib.axes._subplots.AxesSubplot at 0x7f0500b01da0>"
      ]
     },
     "execution_count": 7,
     "metadata": {},
     "output_type": "execute_result"
    },
    {
     "data": {
      "image/png": "[encoded data removed]",
      "text/plain": [
       "<Figure size 864x864 with 1 Axes>"
      ]
     },
     "metadata": {
      "needs_background": "light"
     },
     "output_type": "display_data"
    }
   ],
   "source": [
    "device_extracted_data_df.sort_values(by='item_price', inplace=True)\n",
    "device_extracted_data_df.plot.scatter(x=0, y='item_price', figsize=(12, 12))"
   ]
  },
  {
   "cell_type": "markdown",
   "metadata": {},
   "source": [
    "### 3.2 Prices Binning"
   ]
  },
  {
   "cell_type": "code",
   "execution_count": 8,
   "metadata": {
    "ExecuteTime": {
     "end_time": "2020-04-25T20:20:36.609392Z",
     "start_time": "2020-04-25T20:20:36.324189Z"
    },
    "scrolled": false
   },
   "outputs": [
    {
     "data": {
      "text/plain": [
       "<matplotlib.axes._subplots.AxesSubplot at 0x7f04fe01c0f0>"
      ]
     },
     "execution_count": 8,
     "metadata": {},
     "output_type": "execute_result"
    },
    {
     "data": {
      "image/png": "[encoded data removed]",
      "text/plain": [
       "<Figure size 576x576 with 1 Axes>"
      ]
     },
     "metadata": {
      "needs_background": "light"
     },
     "output_type": "display_data"
    }
   ],
   "source": [
    "device_extracted_data_df.describe()\n",
    "device_extracted_data_df.plot.hist(by=['item_price'], bins=4, figsize=(8, 8))\n"
   ]
  },
  {
   "cell_type": "markdown",
   "metadata": {},
   "source": [
    "#### Using Quantiles"
   ]
  },
  {
   "cell_type": "code",
   "execution_count": 9,
   "metadata": {
    "ExecuteTime": {
     "end_time": "2020-04-25T20:20:49.610050Z",
     "start_time": "2020-04-25T20:20:36.699701Z"
    }
   },
   "outputs": [
    {
     "data": {
      "image/png": "[encoded data removed]",
      "text/plain": [
       "<Figure size 432x288 with 1 Axes>"
      ]
     },
     "metadata": {
      "needs_background": "light"
     },
     "output_type": "display_data"
    }
   ],
   "source": [
    "price_range_labels = ['low', 'medium', 'high', 'outlier']\n",
    "device_extracted_data_df['price_range_q'] = pd.qcut(device_extracted_data_df['item_price'], q=4, labels=price_range_labels)\n",
    "groups = device_extracted_data_df.groupby('price_range_q')\n",
    "# Plot\n",
    "fig, ax = plt.subplots()\n",
    "ax.margins(0.05) # Optional, just adds 5% padding to the autoscaling\n",
    "for name, group in groups:\n",
    "    ax.plot(group['item_original_name'], group['item_price'], marker='o', linestyle='', ms=12, label=name)\n",
    "ax.legend()\n",
    "\n",
    "plt.show()"
   ]
  },
  {
   "cell_type": "markdown",
   "metadata": {},
   "source": [
    "#### Using Binning"
   ]
  },
  {
   "cell_type": "code",
   "execution_count": 10,
   "metadata": {
    "ExecuteTime": {
     "end_time": "2020-04-25T20:21:02.591361Z",
     "start_time": "2020-04-25T20:20:49.724316Z"
    },
    "scrolled": false
   },
   "outputs": [
    {
     "data": {
      "image/png": "[encoded data removed]",
      "text/plain": [
       "<Figure size 432x288 with 1 Axes>"
      ]
     },
     "metadata": {
      "needs_background": "light"
     },
     "output_type": "display_data"
    }
   ],
   "source": [
    "price_range_labels = ['low', 'medium', 'high', 'outlier']\n",
    "device_extracted_data_df['price_range_bin'] = pd.cut(device_extracted_data_df['item_price'], bins=4, labels=price_range_labels)\n",
    "groups = device_extracted_data_df.groupby('price_range_bin')\n",
    "# Plot\n",
    "fig, ax = plt.subplots()\n",
    "ax.margins(0.05) # Optional, just adds 5% padding to the autoscaling\n",
    "for name, group in groups:\n",
    "    ax.plot(group['item_original_name'], group['item_price'], marker='o', linestyle='', ms=12, label=name)\n",
    "ax.legend()\n",
    "\n",
    "plt.show()"
   ]
  },
  {
   "cell_type": "markdown",
   "metadata": {},
   "source": [
    "#### Comparing with old price ranges"
   ]
  },
  {
   "cell_type": "code",
   "execution_count": 11,
   "metadata": {
    "ExecuteTime": {
     "end_time": "2020-04-25T20:21:02.736907Z",
     "start_time": "2020-04-25T20:21:02.709340Z"
    }
   },
   "outputs": [
    {
     "data": {
      "text/html": [
       "<div>\n",
       "<style scoped>\n",
       "    .dataframe tbody tr th:only-of-type {\n",
       "        vertical-align: middle;\n",
       "    }\n",
       "\n",
       "    .dataframe tbody tr th {\n",
       "        vertical-align: top;\n",
       "    }\n",
       "\n",
       "    .dataframe thead th {\n",
       "        text-align: right;\n",
       "    }\n",
       "</style>\n",
       "<table border=\"1\" class=\"dataframe\">\n",
       "  <thead>\n",
       "    <tr style=\"text-align: right;\">\n",
       "      <th></th>\n",
       "      <th>item_original_name</th>\n",
       "      <th>item_extracted_name</th>\n",
       "      <th>item_price</th>\n",
       "      <th>price_range_q</th>\n",
       "      <th>price_range_bin</th>\n",
       "      <th>old_price_range</th>\n",
       "    </tr>\n",
       "  </thead>\n",
       "  <tbody>\n",
       "    <tr>\n",
       "      <th>0</th>\n",
       "      <td>Breeze 7Y2241</td>\n",
       "      <td>Conector Micro Usb Tablet Aoc Breeze Aoc 7 7y...</td>\n",
       "      <td>6</td>\n",
       "      <td>low</td>\n",
       "      <td>low</td>\n",
       "      <td>Low</td>\n",
       "    </tr>\n",
       "    <tr>\n",
       "      <th>1</th>\n",
       "      <td>Galaxy Trend Lite GT-S7392L DUOS</td>\n",
       "      <td>Celular Samsung Galaxy Trend Lite Gt-s7392l P...</td>\n",
       "      <td>15</td>\n",
       "      <td>low</td>\n",
       "      <td>low</td>\n",
       "      <td>Mid_Range</td>\n",
       "    </tr>\n",
       "    <tr>\n",
       "      <th>2</th>\n",
       "      <td>E470f</td>\n",
       "      <td>Smartphone Lg E470f Branco Apenas Partes Pçs....</td>\n",
       "      <td>18</td>\n",
       "      <td>low</td>\n",
       "      <td>low</td>\n",
       "      <td>Low</td>\n",
       "    </tr>\n",
       "    <tr>\n",
       "      <th>3</th>\n",
       "      <td>Motion</td>\n",
       "      <td>Smartphone Cce Motion Plus Sm70 - Defeito</td>\n",
       "      <td>19</td>\n",
       "      <td>low</td>\n",
       "      <td>low</td>\n",
       "      <td>Low</td>\n",
       "    </tr>\n",
       "    <tr>\n",
       "      <th>4</th>\n",
       "      <td>Galaxy Pocket 2</td>\n",
       "      <td>Smartphone Samsung Galaxy Pocket 2 Duos Sm-g1...</td>\n",
       "      <td>19</td>\n",
       "      <td>low</td>\n",
       "      <td>low</td>\n",
       "      <td>Mid_Range</td>\n",
       "    </tr>\n",
       "    <tr>\n",
       "      <th>...</th>\n",
       "      <td>...</td>\n",
       "      <td>...</td>\n",
       "      <td>...</td>\n",
       "      <td>...</td>\n",
       "      <td>...</td>\n",
       "      <td>...</td>\n",
       "    </tr>\n",
       "    <tr>\n",
       "      <th>898</th>\n",
       "      <td>One Pro</td>\n",
       "      <td>OnePlus 7T Pro McLaren Edition Dual SIM 256 G...</td>\n",
       "      <td>6049</td>\n",
       "      <td>outlier</td>\n",
       "      <td>high</td>\n",
       "      <td>Low</td>\n",
       "    </tr>\n",
       "    <tr>\n",
       "      <th>899</th>\n",
       "      <td>iPhone 11 Pro</td>\n",
       "      <td>Apple iPhone 11 Pro Max Dual SIM 64 GB Cinza-...</td>\n",
       "      <td>7000</td>\n",
       "      <td>outlier</td>\n",
       "      <td>high</td>\n",
       "      <td>High</td>\n",
       "    </tr>\n",
       "    <tr>\n",
       "      <th>900</th>\n",
       "      <td>iPhone 11 Pro Max</td>\n",
       "      <td>Apple iPhone 11 Pro Max Dual SIM 64 GB Cinza-...</td>\n",
       "      <td>7000</td>\n",
       "      <td>outlier</td>\n",
       "      <td>high</td>\n",
       "      <td>High</td>\n",
       "    </tr>\n",
       "    <tr>\n",
       "      <th>901</th>\n",
       "      <td>Max 4 Pro</td>\n",
       "      <td>Apple iPhone 11 Pro Max Dual SIM 64 GB Cinza-...</td>\n",
       "      <td>7000</td>\n",
       "      <td>outlier</td>\n",
       "      <td>high</td>\n",
       "      <td>Low</td>\n",
       "    </tr>\n",
       "    <tr>\n",
       "      <th>902</th>\n",
       "      <td>Honor V9</td>\n",
       "      <td>Huawei Honor V9 Black 6/128gb</td>\n",
       "      <td>9830</td>\n",
       "      <td>outlier</td>\n",
       "      <td>outlier</td>\n",
       "      <td>Mid_Range</td>\n",
       "    </tr>\n",
       "  </tbody>\n",
       "</table>\n",
       "<p>903 rows × 6 columns</p>\n",
       "</div>"
      ],
      "text/plain": [
       "                   item_original_name  \\\n",
       "0                       Breeze 7Y2241   \n",
       "1    Galaxy Trend Lite GT-S7392L DUOS   \n",
       "2                               E470f   \n",
       "3                              Motion   \n",
       "4                     Galaxy Pocket 2   \n",
       "..                                ...   \n",
       "898                           One Pro   \n",
       "899                     iPhone 11 Pro   \n",
       "900                 iPhone 11 Pro Max   \n",
       "901                         Max 4 Pro   \n",
       "902                          Honor V9   \n",
       "\n",
       "                                   item_extracted_name  item_price  \\\n",
       "0     Conector Micro Usb Tablet Aoc Breeze Aoc 7 7y...           6   \n",
       "1     Celular Samsung Galaxy Trend Lite Gt-s7392l P...          15   \n",
       "2     Smartphone Lg E470f Branco Apenas Partes Pçs....          18   \n",
       "3           Smartphone Cce Motion Plus Sm70 - Defeito           19   \n",
       "4     Smartphone Samsung Galaxy Pocket 2 Duos Sm-g1...          19   \n",
       "..                                                 ...         ...   \n",
       "898   OnePlus 7T Pro McLaren Edition Dual SIM 256 G...        6049   \n",
       "899   Apple iPhone 11 Pro Max Dual SIM 64 GB Cinza-...        7000   \n",
       "900   Apple iPhone 11 Pro Max Dual SIM 64 GB Cinza-...        7000   \n",
       "901   Apple iPhone 11 Pro Max Dual SIM 64 GB Cinza-...        7000   \n",
       "902                     Huawei Honor V9 Black 6/128gb         9830   \n",
       "\n",
       "    price_range_q price_range_bin old_price_range  \n",
       "0             low             low             Low  \n",
       "1             low             low       Mid_Range  \n",
       "2             low             low             Low  \n",
       "3             low             low             Low  \n",
       "4             low             low       Mid_Range  \n",
       "..            ...             ...             ...  \n",
       "898       outlier            high             Low  \n",
       "899       outlier            high            High  \n",
       "900       outlier            high            High  \n",
       "901       outlier            high             Low  \n",
       "902       outlier         outlier       Mid_Range  \n",
       "\n",
       "[903 rows x 6 columns]"
      ]
     },
     "execution_count": 11,
     "metadata": {},
     "output_type": "execute_result"
    }
   ],
   "source": [
    "device_extracted_data_df = device_extracted_data_df.merge(right=devices_df, left_on='item_original_name', right_on='model_name', how='inner').drop(columns='model_name')\n",
    "device_extracted_data_df"
   ]
  },
  {
   "cell_type": "code",
   "execution_count": 12,
   "metadata": {
    "ExecuteTime": {
     "end_time": "2020-04-25T20:21:14.584458Z",
     "start_time": "2020-04-25T20:21:02.874642Z"
    }
   },
   "outputs": [
    {
     "data": {
      "image/png": "[encoded data removed]",
      "text/plain": [
       "<Figure size 432x288 with 1 Axes>"
      ]
     },
     "metadata": {
      "needs_background": "light"
     },
     "output_type": "display_data"
    }
   ],
   "source": [
    "groups = device_extracted_data_df.groupby('old_price_range')\n",
    "# Plot\n",
    "fig, ax = plt.subplots()\n",
    "ax.margins(0.05) # Optional, just adds 5% padding to the autoscaling\n",
    "for name, group in groups:\n",
    "    ax.plot(group['item_original_name'], group['item_price'], marker='o', linestyle='', ms=12, label=name)\n",
    "ax.legend()\n",
    "\n",
    "plt.show()"
   ]
  },
  {
   "cell_type": "code",
   "execution_count": null,
   "metadata": {},
   "outputs": [],
   "source": []
  }
 ],
 "metadata": {
  "kernelspec": {
   "display_name": "Python 3",
   "language": "python",
   "name": "python3"
  },
  "varInspector": {
   "cols": {
    "lenName": 16,
    "lenType": 16,
    "lenVar": 40
   },
   "kernels_config": {
    "python": {
     "delete_cmd_postfix": "",
     "delete_cmd_prefix": "del ",
     "library": "var_list.py",
     "varRefreshCmd": "print(var_dic_list())"
    },
    "r": {
     "delete_cmd_postfix": ") ",
     "delete_cmd_prefix": "rm(",
     "library": "var_list.r",
     "varRefreshCmd": "cat(var_dic_list()) "
    }
   },
   "types_to_exclude": [
    "module",
    "function",
    "builtin_function_or_method",
    "instance",
    "_Feature"
   ],
   "window_display": false
  }
 },
 "nbformat": 4,
 "nbformat_minor": 4
}
